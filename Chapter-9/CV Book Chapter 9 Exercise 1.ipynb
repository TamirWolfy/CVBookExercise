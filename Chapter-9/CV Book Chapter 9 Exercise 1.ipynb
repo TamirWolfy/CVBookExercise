{
 "cells": [
  {
   "cell_type": "code",
   "execution_count": 1,
   "metadata": {
    "collapsed": true
   },
   "outputs": [],
   "source": [
    "from PIL import Image\n",
    "from numpy import *\n",
    "from pylab import *"
   ]
  },
  {
   "cell_type": "code",
   "execution_count": 2,
   "metadata": {
    "collapsed": true
   },
   "outputs": [],
   "source": [
    "from scipy.misc import imresize\n",
    "import graphcut\n",
    "graphcut = reload(graphcut)\n",
    "from pygraph.classes.digraph import digraph\n",
    "from pygraph.algorithms.minmax import maximum_flow\n",
    "import bayes"
   ]
  },
  {
   "cell_type": "code",
   "execution_count": 3,
   "metadata": {
    "collapsed": true
   },
   "outputs": [],
   "source": [
    "im = array(Image.open('empire.jpg'))\n",
    "im = imresize(im, 0.07, interp='bilinear')\n",
    "size = im.shape[:2]"
   ]
  },
  {
   "cell_type": "code",
   "execution_count": 4,
   "metadata": {
    "collapsed": true
   },
   "outputs": [],
   "source": [
    "labels = zeros(size)\n",
    "labels[3:18, 3:18] = -1\n",
    "labels[-18:-3, -18:-3] = 1"
   ]
  },
  {
   "cell_type": "code",
   "execution_count": 5,
   "metadata": {
    "collapsed": true
   },
   "outputs": [],
   "source": [
    "def build_bayes_graph(im, labels, sigma=1e-2, kappa=2):\n",
    "    \"\"\" Build a graph from 4-neighborhood of pixels.\n",
    "    Foregraound and background is determined from\n",
    "    labels (1 for foreground, -1 for background, 0 othewise)\n",
    "    and is modeled with naive Bayes classifiers. \"\"\"\n",
    "\n",
    "    m, n = im.shape[:2]\n",
    "\n",
    "    # RGB vector version (one pixel per row)\n",
    "    vim = im.astype('float')\n",
    "    vim = vim.reshape((-1, 3))\n",
    "\n",
    "    # RGB for foreground and background\n",
    "    foreground = im[labels == 1].reshape((-1, 3))\n",
    "    background = im[labels == -1].reshape((-1, 3))\n",
    "    train_data = [foreground, background]\n",
    "\n",
    "    # train naive Bayes classifier\n",
    "    bc = bayes.BayesClassifier()\n",
    "    bc.train(train_data, labels)\n",
    "\n",
    "    # get probabilities for all pixels\n",
    "    bc_lables, prob = bc.classify(vim)\n",
    "    prob_fg = prob[0]\n",
    "    prob_bg = prob[1]\n",
    "\n",
    "    # create graph with m*n+2 nodes\n",
    "    gr = digraph()\n",
    "    gr.add_nodes(range(m*n+2))\n",
    "\n",
    "    source = m*n  # second to last is source\n",
    "    sink = m*n+1  # last node is sink\n",
    "\n",
    "    # normalize\n",
    "    pos = m*n/2-100\n",
    "    for i in range(vim.shape[0]):\n",
    "        vim[i] = vim[i] / linalg.norm(vim[i])\n",
    "\n",
    "    # go through all nodes and add edges\n",
    "    for i in range(m*n):\n",
    "        # add edge from source\n",
    "        if (prob_fg[i]>prob_bg[i]):\n",
    "            gr.add_edge((source, i), wt=((prob_fg[i]-prob_bg[i])/(prob_fg[i] + prob_bg[i])))\n",
    "        else:\n",
    "            # add edge to sink\n",
    "            gr.add_edge((i, sink), wt=((prob_bg[i]-prob_fg[i])/(prob_fg[i] + prob_bg[i])))\n",
    "            \n",
    "        # add edges to neighbors\n",
    "        if i % n != 0:  # left exists\n",
    "            edge_wt = kappa*exp(-1.0*sum((vim[i] - vim[i-1])**2)/sigma)\n",
    "            gr.add_edge((i, i-1), wt=edge_wt)\n",
    "        if (i+1) % n != 0:  # right exists\n",
    "            edge_wt = kappa*exp(-1.0*sum((vim[i] - vim[i+1])**2)/sigma)\n",
    "            gr.add_edge((i, i+1), wt=edge_wt)\n",
    "        if i//n != 0:  # up exists\n",
    "            edge_wt = kappa*exp(-1.0*sum((vim[i] - vim[i-n])**2)/sigma)\n",
    "            gr.add_edge((i, i-n), wt=edge_wt)\n",
    "        if i//n != m-1:  # down exists\n",
    "            edge_wt = kappa*exp(-1.0*sum((vim[i] - vim[i+n])**2)/sigma)\n",
    "            gr.add_edge((i, i+n), wt=edge_wt)\n",
    "            \n",
    "    return gr\n"
   ]
  },
  {
   "cell_type": "code",
   "execution_count": 6,
   "metadata": {
    "collapsed": true
   },
   "outputs": [],
   "source": [
    "import time"
   ]
  },
  {
   "cell_type": "code",
   "execution_count": 9,
   "metadata": {},
   "outputs": [
    {
     "name": "stdout",
     "output_type": "stream",
     "text": [
      "411.63883996 s\n"
     ]
    }
   ],
   "source": [
    "# the original version from Chapter-9\n",
    "start = time.time()\n",
    "g = graphcut.build_bayes_graph(im, labels, kappa=1)\n",
    "res2 = graphcut.cut_graph(g, size)\n",
    "end = time.time()\n",
    "print end - start, 's'"
   ]
  },
  {
   "cell_type": "code",
   "execution_count": 7,
   "metadata": {},
   "outputs": [
    {
     "name": "stdout",
     "output_type": "stream",
     "text": [
      "133.951222181 s\n"
     ]
    }
   ],
   "source": [
    "# Reduced version. Each pixel has only one link either to source or to sink\n",
    "start = time.time()\n",
    "g = build_bayes_graph(im, labels, kappa=1)\n",
    "res = graphcut.cut_graph(g, size)\n",
    "end = time.time()\n",
    "print end - start, 's'"
   ]
  },
  {
   "cell_type": "code",
   "execution_count": 8,
   "metadata": {},
   "outputs": [
    {
     "data": {
      "image/png": "[encoded data removed]",
      "text/plain": [
       "<matplotlib.figure.Figure at 0x7fcf29865110>"
      ]
     },
     "metadata": {},
     "output_type": "display_data"
    }
   ],
   "source": [
    "figure()\n",
    "graphcut.show_labeling(im, labels)\n",
    "\n",
    "figure()\n",
    "subplot(1, 2, 1)\n",
    "imshow(res2)\n",
    "gray()\n",
    "axis('off')\n",
    "\n",
    "subplot(1, 2, 2)\n",
    "imshow(res)\n",
    "gray()\n",
    "axis('off')\n",
    "\n",
    "show()"
   ]
  },
  {
   "cell_type": "code",
   "execution_count": null,
   "metadata": {
    "collapsed": true
   },
   "outputs": [],
   "source": []
  }
 ],
 "metadata": {
  "kernelspec": {
   "display_name": "Python 2",
   "language": "python",
   "name": "python2"
  },
  "language_info": {
   "codemirror_mode": {
    "name": "ipython",
    "version": 2
   },
   "file_extension": ".py",
   "mimetype": "text/x-python",
   "name": "python",
   "nbconvert_exporter": "python",
   "pygments_lexer": "ipython2",
   "version": "2.7.12"
  }
 },
 "nbformat": 4,
 "nbformat_minor": 2
}
