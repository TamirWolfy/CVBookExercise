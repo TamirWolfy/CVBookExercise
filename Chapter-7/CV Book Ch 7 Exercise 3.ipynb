{
 "cells": [
  {
   "cell_type": "code",
   "execution_count": 336,
   "metadata": {
    "collapsed": true
   },
   "outputs": [],
   "source": [
    "from PIL import Image\n",
    "from numpy import *\n",
    "import numpy as np\n",
    "from pylab import *\n",
    "import os \n",
    "from scipy.cluster.vq import *\n",
    "from sqlite3 import dbapi2 as sqlite\n",
    "import matplotlib.pyplot as plt"
   ]
  },
  {
   "cell_type": "code",
   "execution_count": 337,
   "metadata": {
    "collapsed": true
   },
   "outputs": [],
   "source": [
    "import pickle\n",
    "import sift\n",
    "import imagesearch\n",
    "imagesearch = reload(imagesearch)"
   ]
  },
  {
   "cell_type": "code",
   "execution_count": 338,
   "metadata": {
    "collapsed": true
   },
   "outputs": [],
   "source": [
    "with open('caltech_imlist.pkl', 'rb') as f:\n",
    "    imlist = pickle.load(f)\n",
    "    featlist = pickle.load(f)"
   ]
  },
  {
   "cell_type": "code",
   "execution_count": 339,
   "metadata": {
    "collapsed": true
   },
   "outputs": [],
   "source": [
    "nbr_images = len(imlist)"
   ]
  },
  {
   "cell_type": "code",
   "execution_count": 340,
   "metadata": {
    "collapsed": true
   },
   "outputs": [],
   "source": [
    "with open('vocabulary.pkl', 'rb') as f:\n",
    "    voc = pickle.load(f)"
   ]
  },
  {
   "cell_type": "code",
   "execution_count": 341,
   "metadata": {
    "collapsed": true
   },
   "outputs": [],
   "source": [
    "db = 'test.db'\n",
    "con = sqlite.connect(db)"
   ]
  },
  {
   "cell_type": "code",
   "execution_count": 342,
   "metadata": {},
   "outputs": [],
   "source": [
    "tmp = con.execute(\"select wordid from imwords\").fetchall()\n",
    "word_list = [w[0] for w in set(tmp)]\n",
    "target = word_list[40]"
   ]
  },
  {
   "cell_type": "code",
   "execution_count": 343,
   "metadata": {
    "collapsed": true
   },
   "outputs": [],
   "source": [
    "id = 73\n",
    "locs, descr  = sift.read_features_from_file(featlist[id])\n",
    "iw = voc.project(descr)"
   ]
  },
  {
   "cell_type": "code",
   "execution_count": 344,
   "metadata": {},
   "outputs": [
    {
     "name": "stdout",
     "output_type": "stream",
     "text": [
      "[   0.    0.    0.    0.   24.   97.   34.    3.   36.    0.    0.    0.\n",
      "    4.   46.   99.  109.   21.    0.    3.    0.    0.    0.    4.   41.\n",
      "    0.    0.    2.    1.    0.    0.    3.    1.    7.    3.    0.    1.\n",
      "  143.  143.   10.    4.  143.   27.    0.    1.   48.   52.   29.   80.\n",
      "  135.    3.    0.    0.    0.    0.    1.   26.    0.    0.    0.    0.\n",
      "    0.    0.    6.    3.   16.    6.    0.    1.  143.  132.    0.    1.\n",
      "  143.   43.    0.    1.   20.   10.    0.   15.  143.   11.    0.    0.\n",
      "    0.    0.    0.    8.    1.    0.    0.    0.    0.    0.    0.    0.\n",
      "   29.   12.    0.    0.   72.   69.    1.    0.  143.  100.    0.    0.\n",
      "    2.    0.    0.    0.   66.   30.    0.    0.    0.    0.    0.    0.\n",
      "    0.    0.    0.    0.    1.    1.    0.    0.]\n",
      "[ 246.474     52.3699     1.19348    6.16868]\n"
     ]
    },
    {
     "data": {
      "image/png": "[encoded data removed]",
      "text/plain": [
       "<matplotlib.figure.Figure at 0x7f40cb0bbc90>"
      ]
     },
     "metadata": {},
     "output_type": "display_data"
    }
   ],
   "source": [
    "target = 369\n",
    "words, distance = vq(descr, voc.voc)\n",
    "index = np.where(words==target)\n",
    "print descr[index[0][0]]\n",
    "print locs[index[0][0]]\n",
    "figure()\n",
    "plt.bar(range(128), descr[index[0][0]])\n",
    "show()"
   ]
  },
  {
   "cell_type": "code",
   "execution_count": 345,
   "metadata": {},
   "outputs": [],
   "source": [
    "id_list = con.execute(\"select rowid from imlist\").fetchall()\n",
    "id_list = [i[0] for i in id_list]"
   ]
  },
  {
   "cell_type": "code",
   "execution_count": 346,
   "metadata": {},
   "outputs": [
    {
     "data": {
      "image/png": "[encoded data removed]",
      "text/plain": [
       "<matplotlib.figure.Figure at 0x7f40c8b6c710>"
      ]
     },
     "metadata": {},
     "output_type": "display_data"
    }
   ],
   "source": [
    "target_word = 45\n",
    "cnt=1\n",
    "figure(figsize=(16, 16))\n",
    "for id in id_list[:80]:\n",
    "    locs, descr  = sift.read_features_from_file(featlist[id-1])\n",
    "    words, distance = vq(descr, voc.voc)\n",
    "    index = np.where(words==target_word)\n",
    "    if len(index[0])<=0:\n",
    "        continue\n",
    "    subplot(10, 4, cnt)\n",
    "    d = descr[index][0]\n",
    "    l = range(128)\n",
    "    plt.bar(l, d)\n",
    "    cnt+=1\n",
    "show()"
   ]
  },
  {
   "cell_type": "code",
   "execution_count": 332,
   "metadata": {},
   "outputs": [
    {
     "name": "stdout",
     "output_type": "stream",
     "text": [
      "1 : [ 260.366      16.2702      0.944967    6.11679 ]\n",
      "3 : [ 50.5488   18.7735    1.12843   3.96347]\n",
      "15 : [ 228.456      47.6591      0.937656    6.08131 ]\n",
      "30 : [ 266.872     66.2148     1.31523    1.71622]\n",
      "32 : [ 78.7353   89.0433    1.15863   5.78077]\n",
      "35 : [  75.8466   153.086      1.11213    1.05926]\n",
      "37 : [ 266.812     48.6936     1.13796    2.02118]\n",
      "42 : [ 134.362    117.231      1.09622    5.33781]\n",
      "43 : [ 143.345    119.231      1.02152    2.12856]\n",
      "46 : [  85.4556    210.34        0.998186    1.2156  ]\n",
      "49 : [  54.8159   164.446      1.10709    5.45106]\n",
      "54 : [ 100.914     118.207       0.917513    3.13865 ]\n",
      "57 : [ 109.477     167.533       0.903172    5.54998 ]\n",
      "58 : [  69.5916   239.319      1.37062    5.74288]\n",
      "68 : [ 215.675     75.6031     1.04391    1.36544]\n",
      "71 : [  84.2096   165.022      1.11689    1.87105]\n",
      "74 : [  92.4025    196.353       0.814783    0.420242]\n",
      "77 : [  28.2653    211.337       0.943219    4.60741 ]\n",
      "80 : [  68.5352    120.076       0.911099    2.63911 ]\n"
     ]
    },
    {
     "data": {
      "image/png": "[encoded data removed]",
      "text/plain": [
       "<matplotlib.figure.Figure at 0x7f40caa04210>"
      ]
     },
     "metadata": {},
     "output_type": "display_data"
    }
   ],
   "source": [
    "target_word = 45\n",
    "cnt=0\n",
    "figure(figsize=(8, 8))\n",
    "gray()\n",
    "for id in id_list[:80]:\n",
    "    locs, descr  = sift.read_features_from_file(featlist[id-1])\n",
    "    words, distance = vq(descr, voc.voc)\n",
    "    index = np.where(words==target_word)\n",
    "    if len(index[0])<=0:\n",
    "        continue\n",
    "    print id, ':', locs[id]\n",
    "    scale = uint(locs[id][2]*4+0.5)\n",
    "    im = array(Image.open(imlist[id-1]).convert('L'))\n",
    "    y1 = locs[id][1]-scale  # locs is x, y, scale, angle\n",
    "    x1 = locs[id][0]-scale\n",
    "    y2 = y1 + scale*2\n",
    "    x2 = x1 + scale*2\n",
    "    y1 = y1 if (0<=y1) else 0\n",
    "    x1 = x1 if (0<=x1) else 0\n",
    "    y2 = y2 if (y2<im.shape[0]) else im.shape[0]  # shape is ysize, xsize\n",
    "    x2 = x2 if (x2<im.shape[1]) else im.shape[1]\n",
    "    x1 = int(x1)\n",
    "    x2 = int(x2)\n",
    "    y1 = int(y1)\n",
    "    y2 = int(y2)\n",
    "    imsmall = im[y1:y2, x1:x2]\n",
    "    if x2-x1<scale*2:\n",
    "        imsmall = hstack((imsmall, zeros((imsmall.shape[0], int(scale*2-(x2-x1))))))\n",
    "    if y2-y1<scale*2:\n",
    "        imsmall = vstack((imsmall, zeros((int(scale*2-(y2-y1)), imsmall.shape[1]))))\n",
    "    subplot(4, 10, cnt+1)\n",
    "    imshow(imsmall)\n",
    "    axis('off')\n",
    "    cnt = cnt+1\n",
    "show()"
   ]
  },
  {
   "cell_type": "code",
   "execution_count": null,
   "metadata": {
    "collapsed": true
   },
   "outputs": [],
   "source": []
  }
 ],
 "metadata": {
  "kernelspec": {
   "display_name": "Python 2",
   "language": "python",
   "name": "python2"
  },
  "language_info": {
   "codemirror_mode": {
    "name": "ipython",
    "version": 2
   },
   "file_extension": ".py",
   "mimetype": "text/x-python",
   "name": "python",
   "nbconvert_exporter": "python",
   "pygments_lexer": "ipython2",
   "version": "2.7.12"
  }
 },
 "nbformat": 4,
 "nbformat_minor": 2
}
