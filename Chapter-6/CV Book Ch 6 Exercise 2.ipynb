{
 "cells": [
  {
   "cell_type": "code",
   "execution_count": 1,
   "metadata": {
    "collapsed": true
   },
   "outputs": [],
   "source": [
    "from PIL import Image\n",
    "from numpy import *\n",
    "from pylab import *\n",
    "import scipy.misc"
   ]
  },
  {
   "cell_type": "code",
   "execution_count": 2,
   "metadata": {
    "collapsed": true
   },
   "outputs": [],
   "source": [
    "from scipy.cluster.vq import *"
   ]
  },
  {
   "cell_type": "code",
   "execution_count": 3,
   "metadata": {
    "collapsed": true
   },
   "outputs": [],
   "source": [
    "import imtools\n",
    "import pickle"
   ]
  },
  {
   "cell_type": "code",
   "execution_count": 4,
   "metadata": {
    "collapsed": true
   },
   "outputs": [],
   "source": [
    "imlist = imtools.get_imlist('selected_fontimages/')\n",
    "imnbr = len(imlist)"
   ]
  },
  {
   "cell_type": "code",
   "execution_count": 5,
   "metadata": {
    "collapsed": true
   },
   "outputs": [],
   "source": [
    "with open('font_pca_modes.pkl', 'rb') as f:\n",
    "    immean = pickle.load(f)\n",
    "    V = pickle.load(f)"
   ]
  },
  {
   "cell_type": "code",
   "execution_count": 6,
   "metadata": {
    "collapsed": true
   },
   "outputs": [],
   "source": [
    "immatrix = array([array(Image.open(im)).flatten() for im in imlist], 'f')"
   ]
  },
  {
   "cell_type": "code",
   "execution_count": 7,
   "metadata": {
    "collapsed": true
   },
   "outputs": [],
   "source": [
    "immean = immean.flatten()\n",
    "projected = array([dot(V[:40], immatrix[i]-immean) for i in range(imnbr)])"
   ]
  },
  {
   "cell_type": "code",
   "execution_count": 8,
   "metadata": {
    "collapsed": true
   },
   "outputs": [],
   "source": [
    "cluster_num = 3\n",
    "projected = whiten(projected)\n",
    "centroids, distortion = kmeans(projected, cluster_num)"
   ]
  },
  {
   "cell_type": "code",
   "execution_count": 9,
   "metadata": {
    "collapsed": true
   },
   "outputs": [],
   "source": [
    "code, distance = vq(projected, centroids)"
   ]
  },
  {
   "cell_type": "code",
   "execution_count": 10,
   "metadata": {
    "collapsed": true
   },
   "outputs": [],
   "source": [
    "def divide_branch_with_center(data, branch, k):\n",
    "    div = min(k, len(branch))\n",
    "    if div<=1:\n",
    "        return list(branch)\n",
    "    centroids, distortion = kmeans(data[branch], k)\n",
    "    code, distance = vq(data[branch], centroids)\n",
    "    new_branch = []\n",
    "    for i in range(k):\n",
    "        ind = where(code==i)[0]\n",
    "        if len(ind)==0:\n",
    "            continue\n",
    "        else:\n",
    "            new_branch.append((centroids[i], distance[i], divide_branch_with_center(data, branch[ind], k)))\n",
    "    return new_branch"
   ]
  },
  {
   "cell_type": "code",
   "execution_count": 11,
   "metadata": {
    "collapsed": true
   },
   "outputs": [],
   "source": [
    "tree = array([i for i in range(projected.shape[0])])\n",
    "branches = ([0 for i in range(40)], 0, divide_branch_with_center(projected, tree, 4))"
   ]
  },
  {
   "cell_type": "code",
   "execution_count": 12,
   "metadata": {
    "collapsed": true
   },
   "outputs": [],
   "source": [
    "def get_depth(t):\n",
    "    if len(t[2])<2:\n",
    "        return 1\n",
    "    else:\n",
    "        return max([get_depth(tt) for tt in t[2]])+1"
   ]
  },
  {
   "cell_type": "code",
   "execution_count": 13,
   "metadata": {
    "collapsed": true
   },
   "outputs": [],
   "source": [
    "def get_height(t):\n",
    "    if (len(t[2])<2):\n",
    "        return 1\n",
    "    else:\n",
    "        return sum([get_height(tt) for tt in t[2]])"
   ]
  },
  {
   "cell_type": "code",
   "execution_count": 14,
   "metadata": {
    "collapsed": true
   },
   "outputs": [],
   "source": [
    "from PIL import Image, ImageDraw"
   ]
  },
  {
   "cell_type": "code",
   "execution_count": 43,
   "metadata": {
    "collapsed": true
   },
   "outputs": [],
   "source": [
    "def draw_average(center, x, y, im):\n",
    "    c = center/np.linalg.norm(center)\n",
    "    avim = dot((V[:40]).T, c)\n",
    "    avim = 255*(avim-min(avim))/(max(avim)-min(avim)+1e-6)\n",
    "    avim = avim.reshape(25, 25)\n",
    "    avim[avim<0] = 0\n",
    "    avim[avim>255] = 255\n",
    "    avim = Image.fromarray(avim)\n",
    "    avim.thumbnail([20, 20])\n",
    "    ns = avim.size\n",
    "    im.paste(avim, [int(x), int(y-ns[1]//2), int(x+ns[0]), int(y+ns[1]-ns[1]//2)])"
   ]
  },
  {
   "cell_type": "code",
   "execution_count": 44,
   "metadata": {
    "collapsed": true
   },
   "outputs": [],
   "source": [
    "def draw_node(node, draw, x, y, s, iml, im):\n",
    "    if len(node[2])<1:\n",
    "        return\n",
    "    if len(node[2])==1:\n",
    "        nodeim = Image.open(iml[node[2][0]])\n",
    "        nodeim.thumbnail([20, 20])\n",
    "        ns = nodeim.size\n",
    "        im.paste(nodeim, [int(x), int(y-ns[1]//2), int(x+ns[0]), int(y+ns[1]-ns[1]//2)])\n",
    "    else:\n",
    "        ht = sum([get_height(n) for n in node[2]])*20/2\n",
    "        h1 = get_height(node[2][0])*20/2\n",
    "        h2 = get_height(node[2][-1])*20/2\n",
    "        top = y-ht\n",
    "        bottom = y+ht\n",
    "        draw.line((x, top+h1, x, bottom-h2), fill=(0, 0, 0))\n",
    "        y = top\n",
    "        for i in range(len(node[2])):\n",
    "            ll = node[2][i][1]/8*s\n",
    "            y += get_height(node[2][i])*20/2\n",
    "            xx = x + ll + s/4\n",
    "            draw.line((x, y, xx, y), fill=(0, 0, 0))\n",
    "            if len(node[2][i][2])>1:\n",
    "                draw_average(node[2][i][0], xx, y, im)\n",
    "                xx = xx+20\n",
    "            draw.line((xx, y, xx+s/4, y), fill=(0, 0, 0))\n",
    "            xx = xx+s/4\n",
    "            draw_node(node[2][i], draw, xx, y, s, imlist, im)\n",
    "            y += get_height(node[2][i])*20/2"
   ]
  },
  {
   "cell_type": "code",
   "execution_count": 45,
   "metadata": {
    "collapsed": true
   },
   "outputs": [],
   "source": [
    "def draw_dendrogram(node, iml, filename='kclusters.jpg'):\n",
    "    rows = get_height(node)*20+40\n",
    "    cols = 1200\n",
    "\n",
    "    s = float(cols-150)/get_depth(node)\n",
    "\n",
    "    im =  Image.new('RGB', (cols, rows), (255, 255, 255))\n",
    "    draw = ImageDraw.Draw(im)\n",
    "\n",
    "    x = 0\n",
    "    y = rows/2\n",
    "    avim = Image.fromarray(immean.reshape(25, 25))\n",
    "    avim.thumbnail([20, 20])\n",
    "    ns = avim.size\n",
    "    im.paste(avim, [int(x), int(y-ns[1]//2), int(x+ns[0]), int(y+ns[1]-ns[1]//2)])\n",
    "    draw.line((x+20, y, x+40, y), fill=(0, 0, 0))\n",
    "    draw_node(node, draw, x+40, (rows/2), s, iml, im)\n",
    "    im.save(filename)\n",
    "    im.show()"
   ]
  },
  {
   "cell_type": "code",
   "execution_count": 46,
   "metadata": {},
   "outputs": [],
   "source": [
    "draw_dendrogram(branches, imlist, filename='k_fonts.jpg')"
   ]
  },
  {
   "cell_type": "code",
   "execution_count": null,
   "metadata": {
    "collapsed": true
   },
   "outputs": [],
   "source": []
  }
 ],
 "metadata": {
  "kernelspec": {
   "display_name": "Python 2",
   "language": "python",
   "name": "python2"
  },
  "language_info": {
   "codemirror_mode": {
    "name": "ipython",
    "version": 2
   },
   "file_extension": ".py",
   "mimetype": "text/x-python",
   "name": "python",
   "nbconvert_exporter": "python",
   "pygments_lexer": "ipython2",
   "version": "2.7.12"
  }
 },
 "nbformat": 4,
 "nbformat_minor": 2
}
