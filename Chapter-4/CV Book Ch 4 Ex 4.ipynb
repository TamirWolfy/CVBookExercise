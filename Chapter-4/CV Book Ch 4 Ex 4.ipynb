{
 "cells": [
  {
   "cell_type": "code",
   "execution_count": 1,
   "metadata": {
    "collapsed": true
   },
   "outputs": [],
   "source": [
    "from numpy import *\n",
    "from OpenGL.GL import *\n",
    "from OpenGL.GLU import *\n",
    "from OpenGL.GLUT import *\n",
    "import pygame, pygame.image\n",
    "from pygame.locals import *\n",
    "import pickle"
   ]
  },
  {
   "cell_type": "code",
   "execution_count": 2,
   "metadata": {
    "collapsed": true
   },
   "outputs": [],
   "source": [
    "width, height = 1000, 747"
   ]
  },
  {
   "cell_type": "code",
   "execution_count": 3,
   "metadata": {
    "collapsed": true
   },
   "outputs": [],
   "source": [
    "def set_projection_from_camera(K, p=[0, 0, 0]):\n",
    "    \"\"\" Set view from a camera calibration matrix. \"\"\"\n",
    "    \n",
    "    glMatrixMode(GL_PROJECTION)\n",
    "    glLoadIdentity()\n",
    "    \n",
    "    fx = K[0, 0]\n",
    "    fy = K[1, 1]\n",
    "    fovy = 2*arctan(0.5*height/fy)*180/pi\n",
    "#    aspect= float(width*fy)/(height*fx)\n",
    "    aspect= (width*fy)/(height*fx)\n",
    "    \n",
    "    # define the near and far clipping planes\n",
    "    near = 0.1\n",
    "    far = 100.0\n",
    "    \n",
    "    # set perspective\n",
    "    gluPerspective(fovy, aspect, near, far)\n",
    "    glViewport(p[0], p[1], width, height)"
   ]
  },
  {
   "cell_type": "code",
   "execution_count": 11,
   "metadata": {
    "collapsed": true
   },
   "outputs": [],
   "source": [
    "def set_modelview_from_camera(Rt):\n",
    "    \"\"\" Define the camera modelview matrix from camera postion \"\"\"\n",
    "    \n",
    "    glMatrixMode(GL_MODELVIEW)\n",
    "    glLoadIdentity()\n",
    "    \n",
    "    # rotate teapot 90 deg around x-axis so that z-axis is up\n",
    "    Rx = array([[1,0,0],[0,0, -1],[0,1,0]])\n",
    "    \n",
    "    # set rotation to best approximation\n",
    "    R = Rt[:, :3]\n",
    "    U, S, V = linalg.svd(R)\n",
    "    R = dot(U, V)\n",
    "    R[0, :] = -R[0,:] # change sign of x-axis\n",
    "    \n",
    "    # set translation\n",
    "    t = Rt[:, 3]\n",
    "    \n",
    "    # setup 4*4 matrix view matrix\n",
    "    M = eye(4)\n",
    "    M[:3, :3] = dot(R, Rx)\n",
    "    M[:3, 3] = t\n",
    "    \n",
    "    # transpose and flatten to get column order\n",
    "    M = M.T\n",
    "    m = M.flatten()\n",
    "    \n",
    "    # replace model view with the new matrix\n",
    "    glLoadMatrixf(m)\n"
   ]
  },
  {
   "cell_type": "code",
   "execution_count": 5,
   "metadata": {
    "collapsed": true
   },
   "outputs": [],
   "source": [
    "def draw_background(imname):\n",
    "    \"\"\" Draw background image using a quad.  \"\"\"\n",
    "    \n",
    "    # load background image (should be .bmp) to OpenGL texture\n",
    "    bg_image = pygame.image.load(imname).convert()\n",
    "    bg_data = pygame.image.tostring(bg_image,\"RGBX\",1)\n",
    "    \n",
    "    glMatrixMode(GL_MODELVIEW)\n",
    "    glLoadIdentity()\n",
    "    glClear(GL_COLOR_BUFFER_BIT | GL_DEPTH_BUFFER_BIT)\n",
    "    \n",
    "    # bind the texture\n",
    "    glEnable(GL_TEXTURE_2D)\n",
    "    glBindTexture(GL_TEXTURE_2D, glGenTextures(1))\n",
    "    glTexImage2D(GL_TEXTURE_2D,0,GL_RGBA,width,height,0,GL_RGBA,GL_UNSIGNED_BYTE,bg_data)\n",
    "    glTexParameterf(GL_TEXTURE_2D,GL_TEXTURE_MAG_FILTER,GL_NEAREST)\n",
    "    glTexParameterf(GL_TEXTURE_2D,GL_TEXTURE_MIN_FILTER,GL_NEAREST)\n",
    "    \n",
    "    # create quad to fill the whole window\n",
    "    glBegin(GL_QUADS)\n",
    "    glTexCoord2f(0.0, 0.0); glVertex3f(-1.0, -1.0, -1.0)\n",
    "    glTexCoord2f(1.0, 0.0); glVertex3f( 1.0, -1.0, -1.0)\n",
    "    glTexCoord2f(1.0, 1.0); glVertex3f( 1.0,  1.0, -1.0)\n",
    "    glTexCoord2f(0.0, 1.0); glVertex3f(-1.0,  1.0, -1.0)\n",
    "    glEnd()\n",
    "    \n",
    "    # clear the texture\n",
    "    glDeleteTextures(1)"
   ]
  },
  {
   "cell_type": "code",
   "execution_count": 6,
   "metadata": {
    "collapsed": true
   },
   "outputs": [],
   "source": [
    "def draw_teapot(size):\n",
    "    \"\"\" Draw a red teapot at the origin. \"\"\"\n",
    "    glEnable(GL_LIGHTING)\n",
    "    glEnable(GL_LIGHT0)\n",
    "    glEnable(GL_DEPTH_TEST)\n",
    "    glClear(GL_DEPTH_BUFFER_BIT)\n",
    "    \n",
    "    #draw red teapot\n",
    "    glMaterialfv(GL_FRONT, GL_AMBIENT, [0, 0, 0, 0])\n",
    "    glMaterialfv(GL_FRONT, GL_DIFFUSE, [0.5, 0.0, 0.0, 0.0])\n",
    "    glMaterialfv(GL_FRONT, GL_SPECULAR, [0.7, 0.6, 0.6, 0.0])\n",
    "    glMaterialf(GL_FRONT, GL_SHININESS, 0.25*128.0)\n",
    "    glutInit()\n",
    "    glutSolidTeapot(size)\n"
   ]
  },
  {
   "cell_type": "code",
   "execution_count": 7,
   "metadata": {
    "collapsed": true
   },
   "outputs": [],
   "source": [
    "def setup():\n",
    "    \"\"\" Setup window and pygame environment. \"\"\"\n",
    "    \n",
    "    pygame.init()\n",
    "    pygame.display.set_mode((width, height), OPENGL | DOUBLEBUF)\n",
    "    pygame.display.set_caption('OpenGL AR demo')\n"
   ]
  },
  {
   "cell_type": "code",
   "execution_count": 8,
   "metadata": {
    "collapsed": true
   },
   "outputs": [],
   "source": [
    "def cube_points(c, wid):\n",
    "    \"\"\" Creates a list of points for plotting\n",
    "    a cube with plot. (the first 5 points are\n",
    "    the bottom square, some sides repeated). \"\"\"\n",
    "    \n",
    "    p=[]\n",
    "    #bottom\n",
    "    p.append([c[0]-wid,c[1]-wid,c[2]-wid])\n",
    "    p.append([c[0]-wid,c[1]+wid,c[2]-wid])\n",
    "    p.append([c[0]+wid,c[1]+wid,c[2]-wid])\n",
    "    p.append([c[0]+wid,c[1]-wid,c[2]-wid])\n",
    "    p.append([c[0]-wid,c[1]-wid,c[2]-wid]) # same as first to close plot\n",
    "\n",
    "    #top\n",
    "    p.append([c[0]-wid,c[1]-wid,c[2]+wid])\n",
    "    p.append([c[0]-wid,c[1]+wid,c[2]+wid])\n",
    "    p.append([c[0]+wid,c[1]+wid,c[2]+wid])\n",
    "    p.append([c[0]+wid,c[1]-wid,c[2]+wid])\n",
    "    p.append([c[0]-wid,c[1]-wid,c[2]+wid]) # same as first to close plot\n",
    "    \n",
    "    #vertical sides\n",
    "    p.append([c[0]-wid,c[1]-wid,c[2]+wid])\n",
    "    p.append([c[0]-wid,c[1]+wid,c[2]+wid])\n",
    "    p.append([c[0]-wid,c[1]+wid,c[2]-wid])\n",
    "    p.append([c[0]+wid,c[1]+wid,c[2]-wid])\n",
    "    p.append([c[0]+wid,c[1]+wid,c[2]+wid])\n",
    "    p.append([c[0]+wid,c[1]-wid,c[2]+wid])\n",
    "    p.append([c[0]+wid,c[1]-wid,c[2]-wid])\n",
    "    \n",
    "    return array(p).T"
   ]
  },
  {
   "cell_type": "code",
   "execution_count": 13,
   "metadata": {
    "collapsed": true
   },
   "outputs": [],
   "source": [
    "#load camera data\n",
    "with open('ar_camera.pkl', 'r') as f:\n",
    "    K = pickle.load(f)\n",
    "    Rt = pickle.load(f)\n",
    "\n",
    "import camera\n",
    "import homography\n",
    "from pylab import *\n",
    "\n",
    "setup()\n",
    "draw_background('book_perspective.bmp')\n",
    "set_projection_from_camera(K)\n",
    "\n",
    "points = array([[xx, yy, 0, 1] for xx in arange(-0.25, 0.26, 0.25) for yy in arange(-0.25, 0.26, 0.25)])\n",
    "#print points\n",
    "offsets = dot(Rt, points.T)\n",
    "#print offsets.T\n",
    "#print 'Rt  : ', Rt\n",
    "for offset in offsets.T:\n",
    "    Rnew = Rt.copy()\n",
    "    Rnew[0][3]  = -offset[0] # x-axis sign is opposite for OpenGL\n",
    "    Rnew[1][3]  = offset[1]\n",
    "    Rnew[2][3]  = offset[2]\n",
    "    set_modelview_from_camera(Rnew)\n",
    "    draw_teapot(0.05)\n",
    "\n",
    "while True:\n",
    "    event = pygame.event.poll()\n",
    "    if event.type in (QUIT, KEYDOWN):\n",
    "        break\n",
    "    pygame.display.flip() \n",
    "pygame.display.quit()"
   ]
  },
  {
   "cell_type": "code",
   "execution_count": null,
   "metadata": {
    "collapsed": true
   },
   "outputs": [],
   "source": []
  }
 ],
 "metadata": {
  "kernelspec": {
   "display_name": "Python 2",
   "language": "python",
   "name": "python2"
  },
  "language_info": {
   "codemirror_mode": {
    "name": "ipython",
    "version": 2
   },
   "file_extension": ".py",
   "mimetype": "text/x-python",
   "name": "python",
   "nbconvert_exporter": "python",
   "pygments_lexer": "ipython2",
   "version": "2.7.12"
  }
 },
 "nbformat": 4,
 "nbformat_minor": 2
}
