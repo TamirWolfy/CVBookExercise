{
 "cells": [
  {
   "cell_type": "code",
   "execution_count": 1,
   "metadata": {
    "collapsed": true
   },
   "outputs": [],
   "source": [
    "from numpy import *\n",
    "from OpenGL.GL import *\n",
    "from OpenGL.GLU import *\n",
    "from OpenGL.GLUT import *\n",
    "import pygame, pygame.image\n",
    "from pygame.locals import *\n",
    "import pickle"
   ]
  },
  {
   "cell_type": "code",
   "execution_count": 2,
   "metadata": {
    "collapsed": true
   },
   "outputs": [],
   "source": [
    "width, height = 1000, 747"
   ]
  },
  {
   "cell_type": "code",
   "execution_count": 3,
   "metadata": {
    "collapsed": true
   },
   "outputs": [],
   "source": [
    "def set_projection_from_camera(K):\n",
    "    \"\"\" Set view from a camera calibration matrix. \"\"\"\n",
    "    \n",
    "    glMatrixMode(GL_PROJECTION)\n",
    "    glLoadIdentity()\n",
    "    \n",
    "    fx = K[0, 0]\n",
    "    fy = K[1, 1]\n",
    "    fovy = 2*arctan(0.5*height/fy)*180/pi\n",
    "#    aspect= float(width*fy)/(height*fx)\n",
    "    aspect= (width*fy)/(height*fx)\n",
    "    \n",
    "    # define the near and far clipping planes\n",
    "    near = 0.1\n",
    "    far = 100.0\n",
    "    \n",
    "    # set perspective\n",
    "    gluPerspective(fovy, aspect, near, far)\n",
    "    glViewport(0, 0, width, height)"
   ]
  },
  {
   "cell_type": "code",
   "execution_count": 4,
   "metadata": {
    "collapsed": true
   },
   "outputs": [],
   "source": [
    "def set_modelview_from_camera(Rt):\n",
    "    \"\"\" Define the camera modelview matrix from camera postion \"\"\"\n",
    "    \n",
    "    glMatrixMode(GL_MODELVIEW)\n",
    "    glLoadIdentity()\n",
    "    \n",
    "    # rotate teapot 90 deg around x-axis so that z-axis is up\n",
    "    Rx = array([[1,0,0],[0,0,-1],[0,1,0]])\n",
    "    \n",
    "    # set rotation to best approximation\n",
    "    R = Rt[:, :3]\n",
    "    U, S, V = linalg.svd(R)\n",
    "    R = dot(U, V)\n",
    "    R[0, :] = -R[0,:] # change sign of x-axis\n",
    "    \n",
    "    # set translation\n",
    "    t = Rt[:, 3]\n",
    "    \n",
    "    # setup 4*4 matrix view matrix\n",
    "    M = eye(4)\n",
    "    M[:3, :3] = dot(R, Rx)\n",
    "    M[:3, 3] = t\n",
    "    \n",
    "    # transpose and flatten to get column order\n",
    "    M = M.T\n",
    "    m = M.flatten()\n",
    "    \n",
    "    # replace model view with the new matrix\n",
    "    glLoadMatrixf(m)\n"
   ]
  },
  {
   "cell_type": "code",
   "execution_count": 5,
   "metadata": {
    "collapsed": true
   },
   "outputs": [],
   "source": [
    "def draw_background(imname):\n",
    "    \"\"\" Draw background image using a quad.  \"\"\"\n",
    "    \n",
    "    # load background image (should be .bmp) to OpenGL texture\n",
    "    bg_image = pygame.image.load(imname).convert()\n",
    "    bg_data = pygame.image.tostring(bg_image,\"RGBX\",1)\n",
    "    \n",
    "    glMatrixMode(GL_MODELVIEW)\n",
    "    glLoadIdentity()\n",
    "    glClear(GL_COLOR_BUFFER_BIT | GL_DEPTH_BUFFER_BIT)\n",
    "    \n",
    "    # bind the texture\n",
    "    glEnable(GL_TEXTURE_2D)\n",
    "    glBindTexture(GL_TEXTURE_2D, glGenTextures(1))\n",
    "    glTexImage2D(GL_TEXTURE_2D,0,GL_RGBA,width,height,0,GL_RGBA,GL_UNSIGNED_BYTE,bg_data)\n",
    "    glTexParameterf(GL_TEXTURE_2D,GL_TEXTURE_MAG_FILTER,GL_NEAREST)\n",
    "    glTexParameterf(GL_TEXTURE_2D,GL_TEXTURE_MIN_FILTER,GL_NEAREST)\n",
    "    \n",
    "    # create quad to fill the whole window\n",
    "    glBegin(GL_QUADS)\n",
    "    glTexCoord2f(0.0, 0.0); glVertex3f(-1.0, -1.0, -1.0)\n",
    "    glTexCoord2f(1.0, 0.0); glVertex3f( 1.0, -1.0, -1.0)\n",
    "    glTexCoord2f(1.0, 1.0); glVertex3f( 1.0,  1.0, -1.0)\n",
    "    glTexCoord2f(0.0, 1.0); glVertex3f(-1.0,  1.0, -1.0)\n",
    "    glEnd()\n",
    "    \n",
    "    # clear the texture\n",
    "    glDeleteTextures(1)"
   ]
  },
  {
   "cell_type": "code",
   "execution_count": 6,
   "metadata": {
    "collapsed": true
   },
   "outputs": [],
   "source": [
    "def load_and_draw_model(filename):\n",
    "    \"\"\" Loads a model from an .obj file using objloader.py.\n",
    "    Assumes there is a .mtl material file with the same name. \"\"\"\n",
    "    glEnable(GL_LIGHTING)\n",
    "    glEnable(GL_LIGHT0)\n",
    "    glEnable(GL_DEPTH_TEST)\n",
    "    glClear(GL_DEPTH_BUFFER_BIT)\n",
    "    \n",
    "    # set model color\n",
    "    glMaterialfv(GL_FRONT, GL_AMBIENT, [0.1, 0.1, 0.1, 0])\n",
    "    glMaterialfv(GL_FRONT, GL_DIFFUSE, [0.5, 0.75, 1.0, 0.0])\n",
    "    glMaterialf(GL_FRONT, GL_SHININESS, 0.25*128.0)\n",
    "    \n",
    "    glEnable(GL_NORMALIZE)\n",
    "    glScalef(0.0085, 0.0085, 0.0085)\n",
    "    # load from file\n",
    "    import objloader\n",
    "    obj = objloader.OBJ(filename)\n",
    "    glCallList(obj.gl_list)"
   ]
  },
  {
   "cell_type": "code",
   "execution_count": 7,
   "metadata": {
    "collapsed": true
   },
   "outputs": [],
   "source": [
    "def setup():\n",
    "    \"\"\" Setup window and pygame environment. \"\"\"\n",
    "    \n",
    "    pygame.init()\n",
    "    pygame.display.set_mode((width, height), OPENGL | DOUBLEBUF)\n",
    "    pygame.display.set_caption('OpenGL AR demo')\n"
   ]
  },
  {
   "cell_type": "code",
   "execution_count": 26,
   "metadata": {},
   "outputs": [],
   "source": [
    " \n",
    "#load camera data\n",
    "with open('ar_camera.pkl', 'r') as f:\n",
    "    K = pickle.load(f)\n",
    "    Rt = pickle.load(f)\n",
    "\n",
    "# wood.jpg is downloaded from http://www.oyonale.com/modeles.php and converted to wood.png\n",
    "# Color is brightened up\n",
    "# Material is defined in wood.mtl\n",
    "# Change toyplane.obj to refer to wood.mtl and replace all materials with wood\n",
    "# Color is a bit off. Need to fix\n",
    "    \n",
    "try:\n",
    "    setup()\n",
    "    draw_background('book_perspective.bmp')\n",
    "    set_projection_from_camera(K)\n",
    "    set_modelview_from_camera(Rt)\n",
    "    load_and_draw_model('toyplane2.obj')\n",
    "\n",
    "    while True:\n",
    "        event = pygame.event.poll()\n",
    "        if event.type in (QUIT, KEYDOWN):\n",
    "            break\n",
    "        pygame.display.flip()\n",
    "finally:\n",
    "    pygame.display.quit()"
   ]
  },
  {
   "cell_type": "code",
   "execution_count": null,
   "metadata": {
    "collapsed": true
   },
   "outputs": [],
   "source": []
  }
 ],
 "metadata": {
  "kernelspec": {
   "display_name": "Python 2",
   "language": "python",
   "name": "python2"
  },
  "language_info": {
   "codemirror_mode": {
    "name": "ipython",
    "version": 2
   },
   "file_extension": ".py",
   "mimetype": "text/x-python",
   "name": "python",
   "nbconvert_exporter": "python",
   "pygments_lexer": "ipython2",
   "version": "2.7.12"
  }
 },
 "nbformat": 4,
 "nbformat_minor": 2
}
