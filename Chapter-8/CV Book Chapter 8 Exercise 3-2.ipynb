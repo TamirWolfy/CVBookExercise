{
 "cells": [
  {
   "cell_type": "code",
   "execution_count": 1,
   "metadata": {
    "collapsed": true
   },
   "outputs": [],
   "source": [
    "from numpy import *\n",
    "from PIL import *\n",
    "import pickle\n",
    "from pylab import *\n",
    "import os"
   ]
  },
  {
   "cell_type": "code",
   "execution_count": 2,
   "metadata": {
    "collapsed": true
   },
   "outputs": [],
   "source": [
    "import sift\n",
    "import dsift\n",
    "dsift = reload(dsift)\n",
    "import imtools\n",
    "imtools = reload(imtools)"
   ]
  },
  {
   "cell_type": "code",
   "execution_count": 3,
   "metadata": {
    "collapsed": true
   },
   "outputs": [],
   "source": [
    "def read_gesture_features_labels(path):\n",
    "    # make a list of the files with .dsift at the end\n",
    "    featlist = [os.path.join(path, f) for f in os.listdir(path)\n",
    "               if f.endswith('.dsift')]\n",
    "    \n",
    "    # read features\n",
    "    features = []\n",
    "    for featfile in featlist:\n",
    "        l, d = sift.read_features_from_file(featfile)\n",
    "        features.append(d.flatten())\n",
    "    features = array(features)\n",
    "    \n",
    "    # generate labels\n",
    "    labels = [featfile.split('/')[-1][0] for featfile in featlist]\n",
    "    \n",
    "    return features, array(labels)"
   ]
  },
  {
   "cell_type": "code",
   "execution_count": 138,
   "metadata": {
    "collapsed": true
   },
   "outputs": [],
   "source": [
    "features, labels = read_gesture_features_labels('train/')\n",
    "test_features, test_labels = read_gesture_features_labels('test/')\n",
    "classnames = unique(labels)"
   ]
  },
  {
   "cell_type": "code",
   "execution_count": 140,
   "metadata": {
    "collapsed": true
   },
   "outputs": [],
   "source": [
    "def convert_labels(labels, transl):\n",
    "    return [transl[l] for l in labels]"
   ]
  },
  {
   "cell_type": "code",
   "execution_count": 141,
   "metadata": {
    "collapsed": true
   },
   "outputs": [],
   "source": [
    "features = map(list, features)\n",
    "test_features = map(list, test_features)"
   ]
  },
  {
   "cell_type": "code",
   "execution_count": 142,
   "metadata": {
    "collapsed": true
   },
   "outputs": [],
   "source": [
    "# Alphabetic label is translated to numbers, and vice versa\n",
    "transl = {}\n",
    "for i, c in enumerate(classnames):\n",
    "    transl[c], transl[i] = i, c"
   ]
  },
  {
   "cell_type": "code",
   "execution_count": 143,
   "metadata": {
    "collapsed": true
   },
   "outputs": [],
   "source": [
    "from svmutil import *"
   ]
  },
  {
   "cell_type": "code",
   "execution_count": 144,
   "metadata": {
    "collapsed": true
   },
   "outputs": [],
   "source": [
    "prob = svm_problem(convert_labels(labels, transl), features)   # Labels 'A', 'B', ... is converted to numbers\n",
    "param = svm_parameter('-t 0')   # use linear kernel"
   ]
  },
  {
   "cell_type": "code",
   "execution_count": 145,
   "metadata": {
    "collapsed": true
   },
   "outputs": [],
   "source": [
    "model = svm_train(prob, param)"
   ]
  },
  {
   "cell_type": "code",
   "execution_count": 146,
   "metadata": {},
   "outputs": [
    {
     "name": "stdout",
     "output_type": "stream",
     "text": [
      "Accuracy = 100% (174/174) (classification)\n"
     ]
    }
   ],
   "source": [
    "res = svm_predict(convert_labels(labels, transl), features, model)"
   ]
  },
  {
   "cell_type": "code",
   "execution_count": 147,
   "metadata": {},
   "outputs": [
    {
     "name": "stdout",
     "output_type": "stream",
     "text": [
      "Accuracy = 80.7692% (168/208) (classification)\n"
     ]
    }
   ],
   "source": [
    "res = svm_predict(convert_labels(test_labels, transl), test_features, model)[0]\n",
    "res = convert_labels(res, transl)"
   ]
  },
  {
   "cell_type": "code",
   "execution_count": 148,
   "metadata": {},
   "outputs": [
    {
     "name": "stdout",
     "output_type": "stream",
     "text": [
      "Accuracy: 0.807692307692\n"
     ]
    }
   ],
   "source": [
    "acc = sum(1.0*(res==test_labels)) / len(test_labels)\n",
    "print 'Accuracy:', acc"
   ]
  },
  {
   "cell_type": "code",
   "execution_count": 149,
   "metadata": {
    "collapsed": true
   },
   "outputs": [],
   "source": [
    "def print_confusion(res, test_labels, classnames):\n",
    "    \n",
    "    n = len(classnames)\n",
    "    \n",
    "    class_ind = dict([(classnames[i], i) for i in range(n)])\n",
    "    \n",
    "    confuse = zeros((n, n))\n",
    "    for i in range(len(test_labels)):\n",
    "        confuse[class_ind[res[i]], class_ind[test_labels[i]]] += 1\n",
    "    \n",
    "    print 'Confusion matrix for'\n",
    "    print classnames\n",
    "    print confuse"
   ]
  },
  {
   "cell_type": "code",
   "execution_count": 150,
   "metadata": {},
   "outputs": [
    {
     "name": "stdout",
     "output_type": "stream",
     "text": [
      "Confusion matrix for\n",
      "['A' 'B' 'C' 'F' 'P' 'V']\n",
      "[[ 26.   0.   4.   4.   2.   0.]\n",
      " [  0.  28.   0.  13.   0.   0.]\n",
      " [  0.   0.  30.   0.   0.   0.]\n",
      " [  0.   1.   0.  27.   0.   0.]\n",
      " [  0.   2.   0.   0.  30.   1.]\n",
      " [  3.   1.   2.   3.   4.  27.]]\n"
     ]
    }
   ],
   "source": [
    "print_confusion(res, test_labels, classnames)"
   ]
  },
  {
   "cell_type": "code",
   "execution_count": 151,
   "metadata": {},
   "outputs": [],
   "source": [
    "import pca"
   ]
  },
  {
   "cell_type": "code",
   "execution_count": 196,
   "metadata": {},
   "outputs": [],
   "source": [
    "V, S, m = pca.pca(array(features))\n",
    "V = V[:100]"
   ]
  },
  {
   "cell_type": "code",
   "execution_count": 197,
   "metadata": {},
   "outputs": [],
   "source": [
    "features2 = [list(dot(V, array(f)-m)) for f in features]"
   ]
  },
  {
   "cell_type": "code",
   "execution_count": 198,
   "metadata": {
    "collapsed": true
   },
   "outputs": [],
   "source": [
    "prob2 = svm_problem(convert_labels(labels, transl), features2)   # Labels 'A', 'B', ... is converted to numbers\n",
    "param2 = svm_parameter('-t 0')   # use linear kernel\n",
    "model2 = svm_train(prob2, param2)"
   ]
  },
  {
   "cell_type": "code",
   "execution_count": 199,
   "metadata": {},
   "outputs": [
    {
     "name": "stdout",
     "output_type": "stream",
     "text": [
      "Accuracy = 100% (174/174) (classification)\n"
     ]
    }
   ],
   "source": [
    "res2 = svm_predict(convert_labels(labels, transl), features2, model2)[0]\n",
    "res2 = convert_labels(res2, transl)"
   ]
  },
  {
   "cell_type": "code",
   "execution_count": 200,
   "metadata": {},
   "outputs": [
    {
     "name": "stdout",
     "output_type": "stream",
     "text": [
      "Accuracy: 1.0\n"
     ]
    }
   ],
   "source": [
    "acc2 = sum(1.0*(res2==labels)) / len(labels)\n",
    "print 'Accuracy:', acc2"
   ]
  },
  {
   "cell_type": "code",
   "execution_count": 201,
   "metadata": {
    "collapsed": true
   },
   "outputs": [],
   "source": [
    "test_features2 = [dot(V, array(f)-m) for f in test_features]\n",
    "test_features2 = map(list, test_features2)"
   ]
  },
  {
   "cell_type": "code",
   "execution_count": 202,
   "metadata": {},
   "outputs": [
    {
     "name": "stdout",
     "output_type": "stream",
     "text": [
      "Accuracy = 79.8077% (166/208) (classification)\n",
      "Accuracy: 0.798076923077\n"
     ]
    }
   ],
   "source": [
    "res3 = svm_predict(convert_labels(test_labels, transl), test_features2, model2)[0]\n",
    "res3 = convert_labels(res3, transl)\n",
    "acc3 = sum(1.0*(res3==test_labels)) / len(test_labels)\n",
    "print 'Accuracy:', acc3"
   ]
  },
  {
   "cell_type": "code",
   "execution_count": null,
   "metadata": {
    "collapsed": true
   },
   "outputs": [],
   "source": []
  }
 ],
 "metadata": {
  "kernelspec": {
   "display_name": "Python 2",
   "language": "python",
   "name": "python2"
  },
  "language_info": {
   "codemirror_mode": {
    "name": "ipython",
    "version": 2
   },
   "file_extension": ".py",
   "mimetype": "text/x-python",
   "name": "python",
   "nbconvert_exporter": "python",
   "pygments_lexer": "ipython2",
   "version": "2.7.12"
  }
 },
 "nbformat": 4,
 "nbformat_minor": 2
}
