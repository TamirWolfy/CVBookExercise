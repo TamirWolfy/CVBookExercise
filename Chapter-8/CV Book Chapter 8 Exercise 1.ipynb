{
 "cells": [
  {
   "cell_type": "code",
   "execution_count": 1,
   "metadata": {
    "collapsed": true
   },
   "outputs": [],
   "source": [
    "from numpy import *\n",
    "from PIL import *\n",
    "import pickle\n",
    "from pylab import *\n",
    "import os"
   ]
  },
  {
   "cell_type": "code",
   "execution_count": 2,
   "metadata": {
    "collapsed": true
   },
   "outputs": [],
   "source": [
    "import sift\n",
    "import dsift\n",
    "dsift = reload(dsift)\n",
    "import imtools\n",
    "imtools = reload(imtools)"
   ]
  },
  {
   "cell_type": "code",
   "execution_count": 3,
   "metadata": {
    "collapsed": true
   },
   "outputs": [],
   "source": [
    "def read_gesture_features_labels(path):\n",
    "    # make a list of the files with .dsift at the end\n",
    "    featlist = [os.path.join(path, f) for f in os.listdir(path)\n",
    "               if f.endswith('.dsift')]\n",
    "    \n",
    "    # read features\n",
    "    features = []\n",
    "    for featfile in featlist:\n",
    "        l, d = sift.read_features_from_file(featfile)\n",
    "        features.append(d.flatten())\n",
    "    features = array(features)\n",
    "    \n",
    "    # generate labels\n",
    "    labels = [featfile.split('/')[-1][0] for featfile in featlist]\n",
    "    \n",
    "    return features, array(labels)"
   ]
  },
  {
   "cell_type": "code",
   "execution_count": 4,
   "metadata": {
    "collapsed": true
   },
   "outputs": [],
   "source": [
    "features, labels = read_gesture_features_labels('train/')\n",
    "test_features, test_labels = read_gesture_features_labels('test/')\n",
    "classnames = unique(labels)"
   ]
  },
  {
   "cell_type": "code",
   "execution_count": 5,
   "metadata": {},
   "outputs": [
    {
     "name": "stdout",
     "output_type": "stream",
     "text": [
      "['F' 'C' 'A' 'V' 'A' 'B' 'A' 'F' 'V' 'P' 'F' 'P' 'V' 'C' 'A' 'V' 'V' 'C'\n",
      " 'B' 'V' 'C' 'C' 'A' 'F' 'V' 'P' 'V' 'P' 'C' 'A' 'F' 'A' 'C' 'B' 'P' 'B'\n",
      " 'B' 'F' 'V' 'B' 'A' 'C' 'B' 'C' 'C' 'V' 'A' 'B' 'A' 'P' 'P' 'P' 'F' 'B'\n",
      " 'B' 'A' 'C' 'A' 'B' 'F' 'P' 'C' 'A' 'A' 'V' 'A' 'B' 'P' 'F' 'P' 'A' 'B'\n",
      " 'V' 'F' 'B' 'A' 'F' 'F' 'C' 'V' 'B' 'V' 'C' 'F' 'P' 'P' 'A' 'F' 'P' 'P'\n",
      " 'F' 'F' 'F' 'V' 'V' 'A' 'C' 'C' 'F' 'P' 'F' 'A' 'V' 'F' 'C' 'B' 'V' 'P'\n",
      " 'B' 'C' 'P' 'V' 'P' 'F' 'V' 'V' 'C' 'A' 'B' 'C' 'F' 'P' 'C' 'B' 'V' 'P'\n",
      " 'C' 'V' 'P' 'C' 'C' 'B' 'A' 'A' 'C' 'P' 'C' 'P' 'B' 'F' 'F' 'B' 'P' 'A'\n",
      " 'A' 'C' 'F' 'P' 'V' 'C' 'B' 'V' 'B' 'F' 'B' 'A' 'V' 'C' 'F' 'B' 'F' 'V'\n",
      " 'B' 'V' 'A' 'P' 'A' 'V' 'P' 'F' 'B' 'P' 'A' 'B']\n"
     ]
    }
   ],
   "source": [
    "# the first letter of the file name is the label\n",
    "print labels"
   ]
  },
  {
   "cell_type": "code",
   "execution_count": 6,
   "metadata": {
    "collapsed": true
   },
   "outputs": [],
   "source": [
    "import knn"
   ]
  },
  {
   "cell_type": "code",
   "execution_count": 7,
   "metadata": {
    "collapsed": true
   },
   "outputs": [],
   "source": [
    "def print_confusion(res, test_labels, classnames):\n",
    "    \n",
    "    n = len(classnames)\n",
    "    \n",
    "    class_ind = dict([(classnames[i], i) for i in range(n)])\n",
    "    \n",
    "    confuse = zeros((n, n))\n",
    "    for i in range(len(test_labels)):\n",
    "        confuse[class_ind[res[i]], class_ind[test_labels[i]]] += 1\n",
    "    \n",
    "    print 'Confusion matrix for'\n",
    "    print classnames\n",
    "    print confuse"
   ]
  },
  {
   "cell_type": "code",
   "execution_count": 9,
   "metadata": {},
   "outputs": [
    {
     "name": "stdout",
     "output_type": "stream",
     "text": [
      "Accuracy: 0.716346153846\n",
      "Accuracy: 0.605769230769\n",
      "Accuracy: 0.519230769231\n",
      "Accuracy: 0.475961538462\n",
      "Accuracy: 0.427884615385\n",
      "Accuracy: 0.365384615385\n",
      "Accuracy: 0.331730769231\n",
      "Accuracy: 0.288461538462\n",
      "Accuracy: 0.269230769231\n",
      "0.269230769231\n"
     ]
    }
   ],
   "source": [
    "# k neighbors\n",
    "accs = []\n",
    "for k in arange(1, 10):\n",
    "    knn_classifier = knn.KnnClassifier(labels, features)\n",
    "\n",
    "    res = array([knn_classifier.classify(test_features[i], k) for i in\n",
    "            range(len(test_labels))])\n",
    "\n",
    "    # accuracy\n",
    "    acc = sum(1.0*(res==test_labels))/len(test_labels)\n",
    "    print 'Accuracy:', acc\n",
    "    accs.append(acc)"
   ]
  },
  {
   "cell_type": "code",
   "execution_count": 10,
   "metadata": {},
   "outputs": [
    {
     "name": "stdout",
     "output_type": "stream",
     "text": [
      "[0.71634615384615385, 0.60576923076923073, 0.51923076923076927, 0.47596153846153844, 0.42788461538461536, 0.36538461538461536, 0.33173076923076922, 0.28846153846153844, 0.26923076923076922]\n"
     ]
    }
   ],
   "source": [
    "print accs"
   ]
  },
  {
   "cell_type": "code",
   "execution_count": 22,
   "metadata": {
    "collapsed": true
   },
   "outputs": [],
   "source": []
  },
  {
   "cell_type": "code",
   "execution_count": null,
   "metadata": {
    "collapsed": true
   },
   "outputs": [],
   "source": []
  }
 ],
 "metadata": {
  "kernelspec": {
   "display_name": "Python 2",
   "language": "python",
   "name": "python2"
  },
  "language_info": {
   "codemirror_mode": {
    "name": "ipython",
    "version": 2
   },
   "file_extension": ".py",
   "mimetype": "text/x-python",
   "name": "python",
   "nbconvert_exporter": "python",
   "pygments_lexer": "ipython2",
   "version": "2.7.12"
  }
 },
 "nbformat": 4,
 "nbformat_minor": 2
}
