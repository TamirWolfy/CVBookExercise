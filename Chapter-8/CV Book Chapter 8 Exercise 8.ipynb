{
 "cells": [
  {
   "cell_type": "code",
   "execution_count": 1,
   "metadata": {
    "collapsed": true
   },
   "outputs": [],
   "source": [
    "from numpy import *\n",
    "from PIL import *\n",
    "import pickle\n",
    "from pylab import *\n",
    "import os\n",
    "from scipy.misc import *\n",
    "from matplotlib.pyplot import *"
   ]
  },
  {
   "cell_type": "code",
   "execution_count": 2,
   "metadata": {
    "collapsed": true
   },
   "outputs": [],
   "source": [
    "# data is taken from this page\n",
    "# http://yann.lecun.com/exdb/mnist/\n",
    "train_file = list(fromfile('handwriting/train-images.idx3-ubyte', uint8, -1))"
   ]
  },
  {
   "cell_type": "code",
   "execution_count": 3,
   "metadata": {},
   "outputs": [
    {
     "name": "stdout",
     "output_type": "stream",
     "text": [
      "0\n"
     ]
    }
   ],
   "source": [
    "print int(train_file[0])"
   ]
  },
  {
   "cell_type": "code",
   "execution_count": 4,
   "metadata": {},
   "outputs": [
    {
     "name": "stdout",
     "output_type": "stream",
     "text": [
      "60000 28 28\n"
     ]
    }
   ],
   "source": [
    "nbr_img = train_file[4]*(256**3)+train_file[5]*(256**2)+train_file[6]*256+train_file[7]\n",
    "width = train_file[8]*(256**3)+train_file[9]*(256**2)+train_file[10]*256+train_file[11]\n",
    "height = train_file[12]*(256**3)+train_file[13]*(256**2)+train_file[14]*256+train_file[15]\n",
    "print nbr_img, width, height"
   ]
  },
  {
   "cell_type": "code",
   "execution_count": 5,
   "metadata": {
    "collapsed": true
   },
   "outputs": [],
   "source": [
    "features = []\n",
    "siz = height*width\n",
    "for i in range(nbr_img):\n",
    "    img = train_file[16+i*siz:16+(i+1)*siz]\n",
    "    features.append(img)"
   ]
  },
  {
   "cell_type": "code",
   "execution_count": 6,
   "metadata": {
    "collapsed": true
   },
   "outputs": [],
   "source": [
    "label_file = list(fromfile('handwriting/train-labels.idx1-ubyte', uint8, -1))\n",
    "nbr_labels = label_file[4]*(256**3)+label_file[5]*(256**2)+label_file[6]*256+label_file[7]\n",
    "labels = label_file[8:8+nbr_labels]"
   ]
  },
  {
   "cell_type": "code",
   "execution_count": 7,
   "metadata": {},
   "outputs": [
    {
     "name": "stdout",
     "output_type": "stream",
     "text": [
      "10000 28 28\n"
     ]
    }
   ],
   "source": [
    "test_file = list(fromfile('handwriting/t10k-images.idx3-ubyte', uint8, -1))\n",
    "nbr_test_img = test_file[4]*(256**3)+test_file[5]*(256**2)+test_file[6]*256+test_file[7]\n",
    "width = test_file[8]*(256**3)+test_file[9]*(256**2)+test_file[10]*256+test_file[11]\n",
    "height = test_file[12]*(256**3)+test_file[13]*(256**2)+test_file[14]*256+test_file[15]\n",
    "print nbr_test_img, width, height\n",
    "test_features = []\n",
    "siz = height*width\n",
    "for i in range(nbr_test_img):\n",
    "    img = test_file[16+i*siz:16+(i+1)*siz]\n",
    "    test_features.append(img)"
   ]
  },
  {
   "cell_type": "code",
   "execution_count": 8,
   "metadata": {
    "collapsed": true
   },
   "outputs": [],
   "source": [
    "test_label_file = list(fromfile('handwriting/t10k-labels.idx1-ubyte', uint8, -1))\n",
    "nbr_test_labels = test_label_file[4]*(256**3)+test_label_file[5]*(256**2)+test_label_file[6]*256+test_label_file[7]\n",
    "test_labels = test_label_file[8:8+nbr_test_labels]"
   ]
  },
  {
   "cell_type": "code",
   "execution_count": 9,
   "metadata": {
    "collapsed": true
   },
   "outputs": [],
   "source": [
    "from svmutil import *"
   ]
  },
  {
   "cell_type": "code",
   "execution_count": 10,
   "metadata": {
    "collapsed": true
   },
   "outputs": [],
   "source": [
    "import time"
   ]
  },
  {
   "cell_type": "code",
   "execution_count": 11,
   "metadata": {},
   "outputs": [
    {
     "name": "stdout",
     "output_type": "stream",
     "text": [
      "159.854454041\n"
     ]
    }
   ],
   "source": [
    "nbr_test = 30000\n",
    "\n",
    "start = time.time()\n",
    "prob = svm_problem(labels[:nbr_test], features[:nbr_test])\n",
    "param = svm_parameter('-t 0')\n",
    "m = svm_train(prob, param)\n",
    "end = time.time()\n",
    "print (end-start)"
   ]
  },
  {
   "cell_type": "code",
   "execution_count": 12,
   "metadata": {},
   "outputs": [
    {
     "name": "stdout",
     "output_type": "stream",
     "text": [
      "Accuracy = 100% (30000/30000) (classification)\n"
     ]
    }
   ],
   "source": [
    "res = svm_predict(labels[:nbr_test], features[:nbr_test], m)"
   ]
  },
  {
   "cell_type": "code",
   "execution_count": 14,
   "metadata": {},
   "outputs": [
    {
     "name": "stdout",
     "output_type": "stream",
     "text": [
      "Accuracy = 91.43% (9143/10000) (classification)\n"
     ]
    }
   ],
   "source": [
    "nbr_test2 = 10000\n",
    "res = svm_predict(test_labels[:nbr_test2], test_features[:nbr_test2], m)"
   ]
  },
  {
   "cell_type": "code",
   "execution_count": 15,
   "metadata": {
    "collapsed": true
   },
   "outputs": [],
   "source": [
    "# This accuracy is far lower than the ranking top records"
   ]
  },
  {
   "cell_type": "code",
   "execution_count": null,
   "metadata": {
    "collapsed": true
   },
   "outputs": [],
   "source": []
  }
 ],
 "metadata": {
  "kernelspec": {
   "display_name": "Python 2",
   "language": "python",
   "name": "python2"
  },
  "language_info": {
   "codemirror_mode": {
    "name": "ipython",
    "version": 2
   },
   "file_extension": ".py",
   "mimetype": "text/x-python",
   "name": "python",
   "nbconvert_exporter": "python",
   "pygments_lexer": "ipython2",
   "version": "2.7.12"
  }
 },
 "nbformat": 4,
 "nbformat_minor": 2
}
