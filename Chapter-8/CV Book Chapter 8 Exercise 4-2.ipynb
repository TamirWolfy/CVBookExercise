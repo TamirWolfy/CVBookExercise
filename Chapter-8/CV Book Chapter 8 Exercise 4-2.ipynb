{
 "cells": [
  {
   "cell_type": "code",
   "execution_count": 38,
   "metadata": {
    "collapsed": true
   },
   "outputs": [],
   "source": [
    "from numpy import *\n",
    "from PIL import *\n",
    "import pickle\n",
    "from pylab import *\n",
    "import os"
   ]
  },
  {
   "cell_type": "code",
   "execution_count": 39,
   "metadata": {
    "collapsed": true
   },
   "outputs": [],
   "source": [
    "import sift\n",
    "import dsift\n",
    "dsift = reload(dsift)\n",
    "import imtools\n",
    "imtools = reload(imtools)"
   ]
  },
  {
   "cell_type": "code",
   "execution_count": 40,
   "metadata": {
    "collapsed": true
   },
   "outputs": [],
   "source": [
    "def read_gesture_features_labels(path):\n",
    "    # make a list of the files with .dsift at the end\n",
    "    featlist = [os.path.join(path, f) for f in os.listdir(path)\n",
    "               if f.endswith('.dsift')]\n",
    "    \n",
    "    # read features\n",
    "    features = []\n",
    "    for featfile in featlist:\n",
    "        l, d = sift.read_features_from_file(featfile)\n",
    "        features.append(d.flatten())\n",
    "    features = array(features)\n",
    "    \n",
    "    # generate labels\n",
    "    labels = [featfile.split('/')[-1][0] for featfile in featlist]\n",
    "    \n",
    "    return features, array(labels)"
   ]
  },
  {
   "cell_type": "code",
   "execution_count": 62,
   "metadata": {
    "collapsed": true
   },
   "outputs": [],
   "source": [
    "features, labels = read_gesture_features_labels('train/')\n",
    "test_features, test_labels = read_gesture_features_labels('test/')\n",
    "classnames = unique(labels)"
   ]
  },
  {
   "cell_type": "code",
   "execution_count": 63,
   "metadata": {},
   "outputs": [
    {
     "name": "stdout",
     "output_type": "stream",
     "text": [
      "['F' 'C' 'A' 'V' 'A' 'B' 'A' 'F' 'V' 'P' 'F' 'P' 'V' 'C' 'A' 'V' 'V' 'C'\n",
      " 'B' 'V' 'C' 'C' 'A' 'F' 'V' 'P' 'V' 'P' 'C' 'A' 'F' 'A' 'C' 'B' 'P' 'B'\n",
      " 'B' 'F' 'V' 'B' 'A' 'C' 'B' 'C' 'C' 'V' 'A' 'B' 'A' 'P' 'P' 'P' 'F' 'B'\n",
      " 'B' 'A' 'C' 'A' 'B' 'F' 'P' 'C' 'A' 'A' 'V' 'A' 'B' 'P' 'F' 'P' 'A' 'B'\n",
      " 'V' 'F' 'B' 'A' 'F' 'F' 'C' 'V' 'B' 'V' 'C' 'F' 'P' 'P' 'A' 'F' 'P' 'P'\n",
      " 'F' 'F' 'F' 'V' 'V' 'A' 'C' 'C' 'F' 'P' 'F' 'A' 'V' 'F' 'C' 'B' 'V' 'P'\n",
      " 'B' 'C' 'P' 'V' 'P' 'F' 'V' 'V' 'C' 'A' 'B' 'C' 'F' 'P' 'C' 'B' 'V' 'P'\n",
      " 'C' 'V' 'P' 'C' 'C' 'B' 'A' 'A' 'C' 'P' 'C' 'P' 'B' 'F' 'F' 'B' 'P' 'A'\n",
      " 'A' 'C' 'F' 'P' 'V' 'C' 'B' 'V' 'B' 'F' 'B' 'A' 'V' 'C' 'F' 'B' 'F' 'V'\n",
      " 'B' 'V' 'A' 'P' 'A' 'V' 'P' 'F' 'B' 'P' 'A' 'B']\n"
     ]
    }
   ],
   "source": [
    "# the first letter of the file name is the label\n",
    "print labels"
   ]
  },
  {
   "cell_type": "code",
   "execution_count": 64,
   "metadata": {
    "collapsed": true
   },
   "outputs": [],
   "source": [
    "import pca"
   ]
  },
  {
   "cell_type": "code",
   "execution_count": 65,
   "metadata": {
    "collapsed": true
   },
   "outputs": [],
   "source": [
    "V, S, m = pca.pca(features)"
   ]
  },
  {
   "cell_type": "code",
   "execution_count": 66,
   "metadata": {
    "collapsed": true
   },
   "outputs": [],
   "source": [
    "V = V[:2]  # take out the important features\n",
    "features = array([dot(V, f-m) for f in features])\n",
    "test_features = array([dot(V, f-m) for f in test_features])"
   ]
  },
  {
   "cell_type": "code",
   "execution_count": 67,
   "metadata": {
    "collapsed": true
   },
   "outputs": [],
   "source": [
    "import bayes\n",
    "import poisson\n",
    "poisson = reload(poisson)"
   ]
  },
  {
   "cell_type": "code",
   "execution_count": 68,
   "metadata": {
    "collapsed": true
   },
   "outputs": [],
   "source": [
    "bc = poisson.BayesClassifier()\n",
    "blist = [features[where(labels==c)[0]] for c in classnames]\n",
    "\n",
    "bc.train(blist, classnames)"
   ]
  },
  {
   "cell_type": "code",
   "execution_count": 69,
   "metadata": {},
   "outputs": [
    {
     "name": "stdout",
     "output_type": "stream",
     "text": [
      "['A' 'A' 'A' 'A' 'A' 'A' 'A' 'A' 'A' 'A' 'A' 'A' 'A' 'A' 'A' 'A' 'A' 'A'\n",
      " 'A' 'A' 'A' 'A' 'A' 'A' 'A' 'A' 'A' 'A' 'A' 'A' 'A' 'A' 'A' 'A' 'A' 'A'\n",
      " 'A' 'A' 'A' 'A' 'A' 'A' 'A' 'A' 'A' 'A' 'A' 'A' 'A' 'A' 'A' 'A' 'A' 'A'\n",
      " 'A' 'A' 'A' 'A' 'A' 'A' 'A' 'A' 'A' 'A' 'A' 'A' 'A' 'A' 'A' 'A' 'A' 'A'\n",
      " 'A' 'A' 'A' 'A' 'A' 'A' 'A' 'A' 'A' 'A' 'A' 'A' 'A' 'A' 'A' 'A' 'A' 'A'\n",
      " 'A' 'A' 'A' 'A' 'A' 'A' 'A' 'A' 'A' 'A' 'A' 'A' 'A' 'A' 'A' 'A' 'A' 'A'\n",
      " 'A' 'A' 'A' 'A' 'A' 'A' 'A' 'A' 'A' 'A' 'A' 'A' 'A' 'A' 'A' 'A' 'A' 'A'\n",
      " 'A' 'A' 'A' 'A' 'A' 'A' 'A' 'A' 'A' 'A' 'A' 'A' 'A' 'A' 'A' 'A' 'A' 'A'\n",
      " 'A' 'A' 'A' 'A' 'A' 'A' 'A' 'A' 'A' 'A' 'A' 'A' 'A' 'A' 'A' 'A' 'A' 'A'\n",
      " 'A' 'A' 'A' 'A' 'A' 'A' 'A' 'A' 'A' 'A' 'A' 'A' 'A' 'A' 'A' 'A' 'A' 'A'\n",
      " 'A' 'A' 'A' 'A' 'A' 'A' 'A' 'A' 'A' 'A' 'A' 'A' 'A' 'A' 'A' 'A' 'A' 'A'\n",
      " 'A' 'A' 'A' 'A' 'A' 'A' 'A' 'A' 'A' 'A']\n",
      "['V' 'P' 'B' 'A' 'C' 'A' 'B' 'V' 'A' 'B' 'F' 'V' 'F' 'C' 'F' 'A' 'C' 'C'\n",
      " 'B' 'F' 'V' 'F' 'V' 'C' 'B' 'B' 'F' 'P' 'B' 'B' 'A' 'B' 'V' 'P' 'C' 'F'\n",
      " 'F' 'B' 'A' 'F' 'B' 'A' 'A' 'B' 'B' 'C' 'C' 'C' 'V' 'F' 'A' 'B' 'F' 'V'\n",
      " 'P' 'V' 'B' 'P' 'C' 'C' 'A' 'B' 'P' 'P' 'F' 'F' 'B' 'F' 'C' 'P' 'F' 'P'\n",
      " 'P' 'P' 'V' 'C' 'V' 'F' 'B' 'V' 'P' 'B' 'B' 'C' 'F' 'C' 'F' 'B' 'F' 'P'\n",
      " 'A' 'P' 'A' 'P' 'C' 'C' 'V' 'P' 'C' 'C' 'P' 'C' 'F' 'F' 'C' 'C' 'F' 'C'\n",
      " 'C' 'A' 'F' 'P' 'V' 'P' 'A' 'B' 'A' 'C' 'V' 'B' 'P' 'B' 'F' 'C' 'V' 'V'\n",
      " 'P' 'A' 'F' 'P' 'P' 'V' 'F' 'F' 'F' 'P' 'V' 'P' 'C' 'A' 'F' 'V' 'V' 'F'\n",
      " 'B' 'C' 'P' 'P' 'A' 'C' 'A' 'F' 'F' 'P' 'F' 'C' 'F' 'C' 'C' 'V' 'A' 'F'\n",
      " 'A' 'A' 'B' 'P' 'V' 'A' 'F' 'F' 'B' 'A' 'F' 'V' 'B' 'C' 'A' 'A' 'F' 'P'\n",
      " 'B' 'A' 'F' 'A' 'B' 'P' 'P' 'C' 'B' 'B' 'V' 'F' 'F' 'F' 'C' 'F' 'A' 'F'\n",
      " 'C' 'V' 'F' 'V' 'P' 'F' 'P' 'P' 'P' 'V']\n"
     ]
    }
   ],
   "source": [
    "res = bc.classify(test_features)[0]\n",
    "print res\n",
    "print test_labels"
   ]
  },
  {
   "cell_type": "code",
   "execution_count": 18,
   "metadata": {},
   "outputs": [
    {
     "name": "stdout",
     "output_type": "stream",
     "text": [
      "Accuracy: 0.0\n"
     ]
    }
   ],
   "source": [
    "acc = sum(1.0*(res==test_labels[0]))/len(test_labels[0])\n",
    "print 'Accuracy:', acc"
   ]
  },
  {
   "cell_type": "markdown",
   "metadata": {},
   "source": [
    "this is better than knn, what's going on?"
   ]
  },
  {
   "cell_type": "code",
   "execution_count": 17,
   "metadata": {
    "collapsed": true
   },
   "outputs": [],
   "source": [
    "def print_confusion(res, test_labels, classnames):\n",
    "    \n",
    "    n = len(classnames)\n",
    "    \n",
    "    class_ind = dict([(classnames[i], i) for i in range(n)])\n",
    "    \n",
    "    confuse = zeros((n, n))\n",
    "    for i in range(len(test_labels)):\n",
    "        confuse[class_ind[res[i]], class_ind[test_labels[i]]] += 1\n",
    "    \n",
    "    print 'Confusion matrix for'\n",
    "    print classnames\n",
    "    print confuse"
   ]
  },
  {
   "cell_type": "code",
   "execution_count": 15,
   "metadata": {},
   "outputs": [
    {
     "name": "stdout",
     "output_type": "stream",
     "text": [
      "Confusion matrix for\n",
      "['A' 'B' 'C' 'F' 'P' 'V']\n",
      "[[ 23.   1.   1.  13.   1.   0.]\n",
      " [  0.  26.   1.   5.   0.   0.]\n",
      " [  0.   0.  33.   2.   0.   0.]\n",
      " [  0.   1.   0.  24.   0.   0.]\n",
      " [  0.   2.   0.   0.  27.   1.]\n",
      " [  6.   2.   1.   3.   8.  27.]]\n"
     ]
    }
   ],
   "source": [
    "print_confusion(res, test_labels, classnames)"
   ]
  },
  {
   "cell_type": "code",
   "execution_count": null,
   "metadata": {
    "collapsed": true
   },
   "outputs": [],
   "source": []
  }
 ],
 "metadata": {
  "kernelspec": {
   "display_name": "Python 2",
   "language": "python",
   "name": "python2"
  },
  "language_info": {
   "codemirror_mode": {
    "name": "ipython",
    "version": 2
   },
   "file_extension": ".py",
   "mimetype": "text/x-python",
   "name": "python",
   "nbconvert_exporter": "python",
   "pygments_lexer": "ipython2",
   "version": "2.7.12"
  }
 },
 "nbformat": 4,
 "nbformat_minor": 2
}
