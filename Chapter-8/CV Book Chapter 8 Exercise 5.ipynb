{
 "cells": [
  {
   "cell_type": "code",
   "execution_count": 1,
   "metadata": {
    "collapsed": true
   },
   "outputs": [],
   "source": [
    "from numpy import *\n",
    "from PIL import *\n",
    "import pickle\n",
    "from pylab import *\n",
    "import os"
   ]
  },
  {
   "cell_type": "code",
   "execution_count": 2,
   "metadata": {
    "collapsed": true
   },
   "outputs": [],
   "source": [
    "import sift\n",
    "import dsift\n",
    "dsift = reload(dsift)\n",
    "import imtools\n",
    "imtools = reload(imtools)"
   ]
  },
  {
   "cell_type": "code",
   "execution_count": 3,
   "metadata": {
    "collapsed": true
   },
   "outputs": [],
   "source": [
    "def read_gesture_features_labels(path):\n",
    "    # make a list of the files with .dsift at the end\n",
    "    featlist = [os.path.join(path, f) for f in os.listdir(path)\n",
    "               if f.endswith('.dsift')]\n",
    "    \n",
    "    # read features\n",
    "    features = []\n",
    "    for featfile in featlist:\n",
    "        l, d = sift.read_features_from_file(featfile)\n",
    "        features.append(d.flatten())\n",
    "    features = array(features)\n",
    "    \n",
    "    # generate labels\n",
    "    labels = [featfile.split('/')[-1][0] for featfile in featlist]\n",
    "    \n",
    "    return features, array(labels)"
   ]
  },
  {
   "cell_type": "code",
   "execution_count": 4,
   "metadata": {
    "collapsed": true
   },
   "outputs": [],
   "source": [
    "features, labels = read_gesture_features_labels('train/')\n",
    "test_features, test_labels = read_gesture_features_labels('test/')\n",
    "classnames = unique(labels)"
   ]
  },
  {
   "cell_type": "code",
   "execution_count": 5,
   "metadata": {},
   "outputs": [
    {
     "name": "stdout",
     "output_type": "stream",
     "text": [
      "['F' 'C' 'A' 'V' 'A' 'B' 'A' 'F' 'V' 'P' 'F' 'P' 'V' 'C' 'A' 'V' 'V' 'C'\n",
      " 'B' 'V' 'C' 'C' 'A' 'F' 'V' 'P' 'V' 'P' 'C' 'A' 'F' 'A' 'C' 'B' 'P' 'B'\n",
      " 'B' 'F' 'V' 'B' 'A' 'C' 'B' 'C' 'C' 'V' 'A' 'B' 'A' 'P' 'P' 'P' 'F' 'B'\n",
      " 'B' 'A' 'C' 'A' 'B' 'F' 'P' 'C' 'A' 'A' 'V' 'A' 'B' 'P' 'F' 'P' 'A' 'B'\n",
      " 'V' 'F' 'B' 'A' 'F' 'F' 'C' 'V' 'B' 'V' 'C' 'F' 'P' 'P' 'A' 'F' 'P' 'P'\n",
      " 'F' 'F' 'F' 'V' 'V' 'A' 'C' 'C' 'F' 'P' 'F' 'A' 'V' 'F' 'C' 'B' 'V' 'P'\n",
      " 'B' 'C' 'P' 'V' 'P' 'F' 'V' 'V' 'C' 'A' 'B' 'C' 'F' 'P' 'C' 'B' 'V' 'P'\n",
      " 'C' 'V' 'P' 'C' 'C' 'B' 'A' 'A' 'C' 'P' 'C' 'P' 'B' 'F' 'F' 'B' 'P' 'A'\n",
      " 'A' 'C' 'F' 'P' 'V' 'C' 'B' 'V' 'B' 'F' 'B' 'A' 'V' 'C' 'F' 'B' 'F' 'V'\n",
      " 'B' 'V' 'A' 'P' 'A' 'V' 'P' 'F' 'B' 'P' 'A' 'B']\n"
     ]
    }
   ],
   "source": [
    "# the first letter of the file name is the label\n",
    "print labels"
   ]
  },
  {
   "cell_type": "code",
   "execution_count": 6,
   "metadata": {
    "collapsed": true
   },
   "outputs": [],
   "source": [
    "def convert_labels(labels, transl):\n",
    "    return [transl[l] for l in labels]"
   ]
  },
  {
   "cell_type": "code",
   "execution_count": 7,
   "metadata": {
    "collapsed": true
   },
   "outputs": [],
   "source": [
    "features = map(list, features)\n",
    "test_features = map(list, test_features)"
   ]
  },
  {
   "cell_type": "code",
   "execution_count": 8,
   "metadata": {
    "collapsed": true
   },
   "outputs": [],
   "source": [
    "# Alphabetic label is translated to numbers, and vice versa\n",
    "transl = {}\n",
    "for i, c in enumerate(classnames):\n",
    "    transl[c], transl[i] = i, c"
   ]
  },
  {
   "cell_type": "code",
   "execution_count": 9,
   "metadata": {
    "collapsed": true
   },
   "outputs": [],
   "source": [
    "from svmutil import *"
   ]
  },
  {
   "cell_type": "code",
   "execution_count": 10,
   "metadata": {
    "collapsed": true
   },
   "outputs": [],
   "source": [
    "prob = svm_problem(convert_labels(labels, transl), features)   # Labels 'A', 'B', ... is converted to numbers"
   ]
  },
  {
   "cell_type": "code",
   "execution_count": 12,
   "metadata": {},
   "outputs": [
    {
     "name": "stdout",
     "output_type": "stream",
     "text": [
      " Accuracy = 100% (174/174) (classification)\n",
      "Accuracy = 79.8077% (166/208) (classification)\n",
      "Accuracy: 0.798076923077\n"
     ]
    }
   ],
   "source": [
    "d = 2\n",
    "param = svm_parameter('-t 1 -d '+str(d))   # use linear kernel\n",
    "m = svm_train(prob, param)\n",
    "res = svm_predict(convert_labels(labels, transl), features, m)\n",
    "res = svm_predict(convert_labels(test_labels, transl), test_features, m)[0]\n",
    "res = convert_labels(res, transl)\n",
    "acc = sum(1.0*(res==test_labels)) / len(test_labels)\n",
    "print 'Accuracy:', acc"
   ]
  },
  {
   "cell_type": "code",
   "execution_count": 13,
   "metadata": {},
   "outputs": [
    {
     "name": "stdout",
     "output_type": "stream",
     "text": [
      "Accuracy = 100% (174/174) (classification)\n",
      "Accuracy = 79.3269% (165/208) (classification)\n",
      "Accuracy: 0.793269230769\n",
      "Accuracy = 100% (174/174) (classification)\n",
      "Accuracy = 79.3269% (165/208) (classification)\n",
      "Accuracy: 0.793269230769\n",
      "Accuracy = 100% (174/174) (classification)\n",
      "Accuracy = 79.8077% (166/208) (classification)\n",
      "Accuracy: 0.798076923077\n",
      "Accuracy = 100% (174/174) (classification)\n",
      "Accuracy = 79.8077% (166/208) (classification)\n",
      "Accuracy: 0.798076923077\n",
      "Accuracy = 100% (174/174) (classification)\n",
      "Accuracy = 79.3269% (165/208) (classification)\n",
      "Accuracy: 0.793269230769\n",
      "Accuracy = 100% (174/174) (classification)\n",
      "Accuracy = 78.3654% (163/208) (classification)\n",
      "Accuracy: 0.783653846154\n",
      "Accuracy = 100% (174/174) (classification)\n",
      "Accuracy = 77.8846% (162/208) (classification)\n",
      "Accuracy: 0.778846153846\n",
      "Accuracy = 100% (174/174) (classification)\n",
      "Accuracy = 76.9231% (160/208) (classification)\n",
      "Accuracy: 0.769230769231\n",
      "Accuracy = 100% (174/174) (classification)\n",
      "Accuracy = 76.4423% (159/208) (classification)\n",
      "Accuracy: 0.764423076923\n"
     ]
    }
   ],
   "source": [
    "accs = []\n",
    "for d in arange(3, 12):\n",
    "    param = svm_parameter('-t 1 -d '+str(d))   # use linear kernel\n",
    "    m = svm_train(prob, param)\n",
    "    res = svm_predict(convert_labels(labels, transl), features, m)\n",
    "    res = svm_predict(convert_labels(test_labels, transl), test_features, m)[0]\n",
    "    res = convert_labels(res, transl)\n",
    "    acc = sum(1.0*(res==test_labels)) / len(test_labels)\n",
    "    print 'Accuracy:', acc\n",
    "    accs.append((d, acc))"
   ]
  },
  {
   "cell_type": "code",
   "execution_count": 14,
   "metadata": {
    "collapsed": true
   },
   "outputs": [],
   "source": [
    "def print_confusion(res, test_labels, classnames):\n",
    "    \n",
    "    n = len(classnames)\n",
    "    \n",
    "    class_ind = dict([(classnames[i], i) for i in range(n)])\n",
    "    \n",
    "    confuse = zeros((n, n))\n",
    "    for i in range(len(test_labels)):\n",
    "        confuse[class_ind[res[i]], class_ind[test_labels[i]]] += 1\n",
    "    \n",
    "    print 'Confusion matrix for'\n",
    "    print classnames\n",
    "    print confuse"
   ]
  },
  {
   "cell_type": "code",
   "execution_count": 15,
   "metadata": {},
   "outputs": [
    {
     "name": "stdout",
     "output_type": "stream",
     "text": [
      "Confusion matrix for\n",
      "['A' 'B' 'C' 'F' 'P' 'V']\n",
      "[[ 23.   0.   4.   0.   0.   0.]\n",
      " [  0.  28.   0.   9.   1.   0.]\n",
      " [  0.   0.  31.   0.   1.   0.]\n",
      " [  0.   1.   0.  27.   0.   0.]\n",
      " [  0.   1.   1.   0.  23.   1.]\n",
      " [  6.   2.   0.  11.  11.  27.]]\n"
     ]
    }
   ],
   "source": [
    "print_confusion(res, test_labels, classnames)"
   ]
  },
  {
   "cell_type": "code",
   "execution_count": 29,
   "metadata": {
    "collapsed": true
   },
   "outputs": [],
   "source": [
    "import matplotlib.pyplot as plt"
   ]
  },
  {
   "cell_type": "code",
   "execution_count": 30,
   "metadata": {},
   "outputs": [],
   "source": [
    "dimension = [a[0] for a in accs]\n",
    "accuracy = [a[1] for a in accs]"
   ]
  },
  {
   "cell_type": "code",
   "execution_count": 32,
   "metadata": {},
   "outputs": [
    {
     "data": {
      "image/png": "[encoded data removed]",
      "text/plain": [
       "<matplotlib.figure.Figure at 0x7f5ffdb9a3d0>"
      ]
     },
     "metadata": {},
     "output_type": "display_data"
    }
   ],
   "source": [
    "plt.plot(dimension, accuracy)\n",
    "show()"
   ]
  },
  {
   "cell_type": "code",
   "execution_count": null,
   "metadata": {
    "collapsed": true
   },
   "outputs": [],
   "source": []
  }
 ],
 "metadata": {
  "kernelspec": {
   "display_name": "Python 2",
   "language": "python",
   "name": "python2"
  },
  "language_info": {
   "codemirror_mode": {
    "name": "ipython",
    "version": 2
   },
   "file_extension": ".py",
   "mimetype": "text/x-python",
   "name": "python",
   "nbconvert_exporter": "python",
   "pygments_lexer": "ipython2",
   "version": "2.7.12"
  }
 },
 "nbformat": 4,
 "nbformat_minor": 2
}
