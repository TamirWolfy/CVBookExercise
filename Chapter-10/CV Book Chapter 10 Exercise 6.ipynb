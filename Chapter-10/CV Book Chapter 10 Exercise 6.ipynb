{
 "cells": [
  {
   "cell_type": "code",
   "execution_count": 4,
   "metadata": {
    "collapsed": true
   },
   "outputs": [],
   "source": [
    "from numpy import *\n",
    "from PIL import *\n",
    "import pickle\n",
    "from pylab import *\n",
    "import os\n",
    "from scipy.misc import *\n",
    "from matplotlib.pyplot import *"
   ]
  },
  {
   "cell_type": "code",
   "execution_count": 13,
   "metadata": {
    "collapsed": true
   },
   "outputs": [],
   "source": [
    "import cv2\n",
    "import imtools\n",
    "imtools = reload(imtools)"
   ]
  },
  {
   "cell_type": "code",
   "execution_count": 77,
   "metadata": {},
   "outputs": [],
   "source": [
    "def compute_feature(im):\n",
    "    \"\"\" Returns a feature vector for an\n",
    "    ocr image patch. \"\"\"\n",
    "    \n",
    "    # resize and remove border\n",
    "    norm_im = imresize(im, (30, 30))\n",
    "    norm_im = norm_im[3:-3, 3:-3]\n",
    "    m = cv2.moments(norm_im)\n",
    "    hu = cv2.HuMoments(m)\n",
    "    hu = hu\n",
    "    \n",
    "    return hu.flatten()"
   ]
  },
  {
   "cell_type": "code",
   "execution_count": 78,
   "metadata": {},
   "outputs": [],
   "source": [
    "def load_ocr_data(path):\n",
    "    \"\"\" Return labels and ocr features for all images in path. \"\"\"\n",
    "    \n",
    "    # create list of all files ending in .jpg\n",
    "    imlist = [os.path.join(path, f) for f in os.listdir(path) if f.endswith('.jpg')]\n",
    "    \n",
    "    labels = [int(imfile.split('/')[-1][0]) for imfile in imlist]\n",
    "    features = []\n",
    "    for imname in imlist:\n",
    "        im = array(Image.open(imname).convert('L'))\n",
    "        features.append(compute_feature(im))\n",
    "    return array(features), labels"
   ]
  },
  {
   "cell_type": "code",
   "execution_count": 79,
   "metadata": {},
   "outputs": [],
   "source": [
    "from svmutil import *"
   ]
  },
  {
   "cell_type": "code",
   "execution_count": 126,
   "metadata": {},
   "outputs": [],
   "source": [
    "features, labels = load_ocr_data('sudoku_images/ocr_data/training/')\n",
    "test_features, test_labels = load_ocr_data('sudoku_images/ocr_data/testing/')\n",
    "# freatures = array([f/linalg.norm(f) for f in features.T if linalg.norm(f)>0]).T\n",
    "\n",
    "features = map(list, features)\n",
    "test_features = map(list, test_features)"
   ]
  },
  {
   "cell_type": "code",
   "execution_count": 144,
   "metadata": {},
   "outputs": [],
   "source": [
    "prob = svm_problem(labels, features)\n",
    "param = svm_parameter('-t 0')\n",
    "m = svm_train(prob, param)"
   ]
  },
  {
   "cell_type": "code",
   "execution_count": 145,
   "metadata": {},
   "outputs": [
    {
     "name": "stdout",
     "output_type": "stream",
     "text": [
      "Accuracy = 30.1632% (425/1409) (classification)\n"
     ]
    }
   ],
   "source": [
    "res = svm_predict(labels, features, m)"
   ]
  },
  {
   "cell_type": "code",
   "execution_count": 146,
   "metadata": {},
   "outputs": [
    {
     "name": "stdout",
     "output_type": "stream",
     "text": [
      "Accuracy = 22.3671% (223/997) (classification)\n"
     ]
    }
   ],
   "source": [
    "res = svm_predict(test_labels, test_features, m)"
   ]
  },
  {
   "cell_type": "code",
   "execution_count": null,
   "metadata": {
    "collapsed": true
   },
   "outputs": [],
   "source": [
    "# Not very good. Any way to improve?"
   ]
  }
 ],
 "metadata": {
  "kernelspec": {
   "display_name": "Python 2",
   "language": "python",
   "name": "python2"
  },
  "language_info": {
   "codemirror_mode": {
    "name": "ipython",
    "version": 2
   },
   "file_extension": ".py",
   "mimetype": "text/x-python",
   "name": "python",
   "nbconvert_exporter": "python",
   "pygments_lexer": "ipython2",
   "version": "2.7.12"
  }
 },
 "nbformat": 4,
 "nbformat_minor": 2
}
