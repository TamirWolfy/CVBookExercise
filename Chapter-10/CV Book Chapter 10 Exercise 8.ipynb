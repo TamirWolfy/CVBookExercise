{
 "cells": [
  {
   "cell_type": "code",
   "execution_count": 1,
   "metadata": {
    "collapsed": true
   },
   "outputs": [],
   "source": [
    "from PIL import Image\n",
    "from numpy import *\n",
    "from pylab import *\n",
    "from scipy import ndimage"
   ]
  },
  {
   "cell_type": "code",
   "execution_count": 2,
   "metadata": {
    "collapsed": true
   },
   "outputs": [],
   "source": [
    "import cv2"
   ]
  },
  {
   "cell_type": "code",
   "execution_count": 3,
   "metadata": {
    "collapsed": true
   },
   "outputs": [],
   "source": [
    "cap = cv2.VideoCapture(-1)"
   ]
  },
  {
   "cell_type": "code",
   "execution_count": 4,
   "metadata": {},
   "outputs": [
    {
     "name": "stdout",
     "output_type": "stream",
     "text": [
      "True\n"
     ]
    }
   ],
   "source": [
    "ret, im = cap.read()\n",
    "print ret"
   ]
  },
  {
   "cell_type": "code",
   "execution_count": 7,
   "metadata": {},
   "outputs": [],
   "source": [
    "while True:\n",
    "    ret, im = cap.read()\n",
    "    if not ret:\n",
    "        break\n",
    "    cv2.imshow('video', im)\n",
    "    key = cv2.waitKey(10)\n",
    "    if key == 27:\n",
    "        break\n",
    "cv2.destroyAllWindows()"
   ]
  },
  {
   "cell_type": "code",
   "execution_count": 78,
   "metadata": {},
   "outputs": [
    {
     "name": "stderr",
     "output_type": "stream",
     "text": [
      "/usr/local/lib/python2.7/dist-packages/ipykernel_launcher.py:22: DeprecationWarning: elementwise != comparison failed; this will raise an error in the future.\n"
     ]
    }
   ],
   "source": [
    "# Parameters\n",
    "lk_params = dict(winSize=(15, 15), maxLevel=2,\n",
    "                criteria=(cv2.TERM_CRITERIA_EPS | cv2.TERM_CRITERIA_COUNT, 10, 0.03))\n",
    "subpix_params = dict(zeroZone=(-1, -1), winSize=(10, 10), \n",
    "                     criteria=(cv2.TERM_CRITERIA_COUNT | cv2.TERM_CRITERIA_EPS, 20, 0.03))\n",
    "feature_params = dict(maxCorners=500, qualityLevel=0.01, minDistance=10)\n",
    "cycle = 20\n",
    "draw_flow = True\n",
    "\n",
    "# Initialize\n",
    "nbr_fetures = 0\n",
    "prev = []\n",
    "features = []\n",
    "tracks = []\n",
    "count = 0\n",
    "while True:\n",
    "    ret, im = cap.read()\n",
    "    if not ret:\n",
    "        print \"Image Capture Error\"\n",
    "        break\n",
    "    image = im.copy()\n",
    "    if prev!=[]:\n",
    "        # for the first frame or after reset, detect points\n",
    "        if features==[]:\n",
    "            features = cv2.goodFeaturesToTrack(prev, **feature_params)\n",
    "            cv2.cornerSubPix(prev, features, **subpix_params)\n",
    "            tracks = [[p] for p in features.reshape((-1, 2))]\n",
    "            nbr_fetures = len(features)\n",
    "        \n",
    "        # find the features in the new frame\n",
    "        img_gray = cv2.cvtColor(im, cv2.COLOR_BGR2GRAY)\n",
    "        tmp = float32(features). reshape(-1, 1, 2)\n",
    "        fs, status, track_error = cv2.calcOpticalFlowPyrLK(prev, img_gray, tmp, None, **lk_params)\n",
    "        features = [p for (st, p) in zip(status, fs) if st]\n",
    "        fs = array(fs).reshape((-1, 2))\n",
    "        for i, f in enumerate(fs):\n",
    "            tracks[i].append(f)\n",
    "        ndx = [i for (i, st) in enumerate(status) if not st]\n",
    "        ndx.reverse()\n",
    "        for i in ndx:\n",
    "            tracks.pop(i)\n",
    "        prev = img_gray\n",
    "        \n",
    "        for point in features:\n",
    "            cv2.circle(image, (int(point[0][0]), int(point[0][1])), 3, (0, 255, 0), -1)\n",
    "        if draw_flow:\n",
    "            for t in tracks:\n",
    "                cv2.line(image, tuple(t[-1]), tuple(t[-2]), (0, 0, 255))\n",
    "    else:\n",
    "        prev = cv2.cvtColor(im, cv2.COLOR_BGR2GRAY)\n",
    "    cv2.imshow('video', image)\n",
    "    key = cv2.waitKey(10)\n",
    "    if key == 27:\n",
    "        break\n",
    "    count += 1\n",
    "    if (count>=cycle or len(features)<nbr_fetures/2 or key==ord(' ')):\n",
    "        count = 0\n",
    "        features = []\n",
    "cv2.destroyAllWindows()"
   ]
  },
  {
   "cell_type": "code",
   "execution_count": null,
   "metadata": {
    "collapsed": true
   },
   "outputs": [],
   "source": []
  }
 ],
 "metadata": {
  "kernelspec": {
   "display_name": "Python 2",
   "language": "python",
   "name": "python2"
  },
  "language_info": {
   "codemirror_mode": {
    "name": "ipython",
    "version": 2
   },
   "file_extension": ".py",
   "mimetype": "text/x-python",
   "name": "python",
   "nbconvert_exporter": "python",
   "pygments_lexer": "ipython2",
   "version": "2.7.12"
  }
 },
 "nbformat": 4,
 "nbformat_minor": 2
}
